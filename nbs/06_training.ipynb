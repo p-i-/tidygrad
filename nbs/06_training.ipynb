{
 "cells": [
  {
   "attachments": {},
   "cell_type": "markdown",
   "metadata": {},
   "source": [
    "### Training loop stuff\n"
   ]
  },
  {
   "cell_type": "code",
   "execution_count": null,
   "metadata": {},
   "outputs": [],
   "source": [
    "# | hide\n",
    "import nbdev\n",
    "from nbdev.showdoc import *\n",
    "\n",
    "\n",
    "nbdev.nbdev_export()\n"
   ]
  },
  {
   "cell_type": "code",
   "execution_count": null,
   "metadata": {},
   "outputs": [],
   "source": [
    "# | default_exp training\n"
   ]
  },
  {
   "cell_type": "code",
   "execution_count": null,
   "metadata": {},
   "outputs": [],
   "source": [
    "# | export\n",
    "from tidygrad.tensor import Tensor\n",
    "from tidygrad.utils import noop\n",
    "import numpy as np\n"
   ]
  },
  {
   "cell_type": "code",
   "execution_count": null,
   "metadata": {},
   "outputs": [],
   "source": [
    "# | export\n",
    "def add_callbacks(func):\n",
    "    print(\"Adding callbacks\", func.__name__)\n",
    "\n",
    "    def decorator(self):\n",
    "        full_name = func.__name__.replace(\"do_\", \"\")\n",
    "        pre_name = f\"pre_{full_name}\"\n",
    "        post_name = f\"post_{full_name}\"\n",
    "        for callback in self.callbacks:\n",
    "            getattr(callback, pre_name, noop)(self)\n",
    "\n",
    "        func(self)\n",
    "        for callback in self.callbacks:\n",
    "            getattr(callback, post_name, noop)(self)\n",
    "\n",
    "    return decorator\n"
   ]
  },
  {
   "cell_type": "code",
   "execution_count": null,
   "metadata": {},
   "outputs": [],
   "source": [
    "# | export\n",
    "### Fastai style\n",
    "\n",
    "class Dataset:\n",
    "    def __getitem__(self, idx):\n",
    "        raise NotImplementedError\n",
    "\n",
    "    def __len__(self):\n",
    "        raise NotImplementedError\n",
    "\n",
    "    def shuffle(self):\n",
    "        raise NotImplementedError\n",
    "\n",
    "    def collate_fn(self, batch):\n",
    "        raise NotImplementedError\n",
    "\n",
    "\n",
    "class DataLoader:\n",
    "    def __init__(self, dataset, batch_size=64, shuffle=True, batch_tfms=()):\n",
    "        self.batch_tfms = batch_tfms\n",
    "        self.dataset = dataset  # indexed dataset\n",
    "        self.batch_size = batch_size\n",
    "        self.shuffle = shuffle\n",
    "\n",
    "    def __len__(self):\n",
    "        return len(self.dataset) // self.batch_size\n",
    "\n",
    "    def __iter__(self):\n",
    "        if self.shuffle:\n",
    "            self.dataset.shuffle()\n",
    "        self.i = 0\n",
    "        return self\n",
    "\n",
    "    def __next__(self):\n",
    "        if self.i + self.batch_size > len(self.dataset):\n",
    "            raise StopIteration\n",
    "\n",
    "        batch = [self.dataset[self.i + i] for i in range(self.batch_size)]\n",
    "        self.i += self.batch_size\n",
    "        collated = self.dataset.collate_fn(batch)\n",
    "        for tfm in self.batch_tfms:\n",
    "            collated = tfm(*collated)\n",
    "        return [Tensor(t) for t in collated]\n",
    "\n",
    "\n",
    "class DataLoaders:\n",
    "    def __init__(self, train: DataLoader, test: DataLoader):\n",
    "        self.train = train\n",
    "        self.test = test\n"
   ]
  },
  {
   "cell_type": "code",
   "execution_count": null,
   "metadata": {},
   "outputs": [],
   "source": [
    "# | export\n",
    "\n",
    "class DictLoggerCallback:\n",
    "    val_loss = 0\n",
    "    val_error = 0\n",
    "\n",
    "    def __init__(self, metrics=None):\n",
    "        self.metrics = [] if metrics is None else metrics\n",
    "\n",
    "    def log(self, metric, value, accum=False, step: int = None):\n",
    "        if step is None:\n",
    "            step = self.metrics[-1][\"step\"] + 1 if self.metrics else 0\n",
    "\n",
    "        if not self.metrics or step != self.metrics[-1][\"step\"]:\n",
    "            self.metrics.append({\"step\": step})\n",
    "\n",
    "        if metric in self.metrics[-1] and accum:\n",
    "            self.metrics[-1][metric] += value\n",
    "        else:\n",
    "            self.metrics[-1][metric] = value\n",
    "\n",
    "    def post_calc_loss(self, learner):\n",
    "        if learner.training:\n",
    "            self.log(\"loss\", float(learner.loss.data), step=learner.step)\n",
    "            self.log(\"error\", 1 - float((learner.preds.data.argmax(1) == learner.batch[1].data).mean()), step=learner.step)\n",
    "        else:\n",
    "            self.val_loss += float(learner.loss.data)\n",
    "            self.val_error += 1 - float((learner.preds.data.argmax(1) == learner.batch[1].data).mean())\n",
    "            # self.log(\"val_loss\", float(learner.loss.data), accum=True, step=learner.step)\n",
    "\n",
    "    # def pre_epoch(self, learner):\n",
    "    #\n",
    "\n",
    "    def post_epoch(self, learner):\n",
    "        # val_loss = self.metrics[-1][\"val_loss\"] / len(learner.dl)\n",
    "        self.log(\"val_loss\", self.val_loss / len(learner.dl), step=learner.step)\n",
    "        self.log(\"val_error\", self.val_error / len(learner.dl), step=learner.step)\n",
    "        # self.log(\"epoch\", learner.epoch, step=learner.step)\n",
    "        self.val_loss = 0\n",
    "        self.val_error = 0\n"
   ]
  },
  {
   "cell_type": "code",
   "execution_count": null,
   "metadata": {},
   "outputs": [
    {
     "name": "stdout",
     "output_type": "stream",
     "text": [
      "Adding callbacks do_fit\n",
      "Adding callbacks do_epoch\n",
      "Adding callbacks do_all_batches\n",
      "Adding callbacks do_calc_loss\n",
      "Adding callbacks do_batch_forward\n",
      "Adding callbacks do_batch_backward\n"
     ]
    }
   ],
   "source": [
    "# | export\n",
    "\n",
    "class Learner:\n",
    "    # dataloaders - train, test\n",
    "    # model - function that outputs a tensor that can be fed into a loss function\n",
    "    # loss_func - function that takes in a tensor and outputs a scalar\n",
    "    # optimizer - Optimizer object\n",
    "    def __init__(self, dataloaders, model, loss_func, optimizer, callbacks=[]):\n",
    "        self.dataloaders = dataloaders\n",
    "        self.model = model\n",
    "        self.loss_func = loss_func\n",
    "        self.optimizer = optimizer\n",
    "        self.callbacks = callbacks if callbacks else []\n",
    "\n",
    "        # The state of the learner. These are updated during training by various do_ functions\n",
    "        self.training = False  # True if training, False if val/test.\n",
    "        self.epoch = 0  # current epoch, starts with 1 when you start trainig.\n",
    "        self.step = 0  # current step, increases by 1 every (training) batch\n",
    "        self.dl = None  # current dataloader, could be train or test or val\n",
    "        self.batch = None  # The current batch as a tuple of (x, y)\n",
    "        self.preds: Tensor = None  # Output of the model\n",
    "\n",
    "    def fit(self, epochs, start_epoch=0, start_step=None):\n",
    "        self.start_epoch = start_epoch\n",
    "        self.n_epochs = epochs\n",
    "        self.step = self.step if start_step is None else start_step\n",
    "        self.do_fit()\n",
    "\n",
    "    @add_callbacks\n",
    "    def do_fit(self):\n",
    "        for e in range(self.start_epoch + 1, self.start_epoch + 1 + self.n_epochs):\n",
    "            self.epoch = e\n",
    "            self.do_epoch()\n",
    "\n",
    "    @add_callbacks\n",
    "    def do_epoch(self):\n",
    "        self.training = True\n",
    "        self.dl = self.dataloaders.train\n",
    "        self.do_all_batches()\n",
    "        self.dl = self.dataloaders.test\n",
    "        self.training = False\n",
    "        self.do_all_batches()\n",
    "\n",
    "    @add_callbacks\n",
    "    def do_all_batches(self):\n",
    "        for batch in self.dl:\n",
    "            if self.training: self.step += 1\n",
    "            self.batch = batch\n",
    "            self.do_batch_forward()\n",
    "            self.do_calc_loss()\n",
    "            if self.training: self.do_batch_backward()\n",
    "\n",
    "    @add_callbacks\n",
    "    def do_calc_loss(self):\n",
    "        _, y = self.batch\n",
    "        self.loss = self.loss_func(self.preds, y)\n",
    "\n",
    "    @add_callbacks\n",
    "    def do_batch_forward(self):\n",
    "        x, _ = self.batch\n",
    "        self.preds = self.model(x)\n",
    "\n",
    "    @add_callbacks\n",
    "    def do_batch_backward(self):\n",
    "        self.loss.backward()\n",
    "        self.optimizer.step()\n",
    "        self.optimizer.zero_grad()\n"
   ]
  },
  {
   "cell_type": "code",
   "execution_count": null,
   "metadata": {},
   "outputs": [],
   "source": [
    "# | export\n",
    "import numpy as np\n",
    "\n",
    "\n",
    "def one_hot_encode_batch(y_batch, n_classes):\n",
    "    batch_size = len(y_batch)\n",
    "    assert batch_size > 0\n",
    "    assert n_classes > 0\n",
    "    assert y_batch.shape == (batch_size, )\n",
    "    assert np.min(y_batch) >= 0\n",
    "\n",
    "    # Initialize a zero matrix of shape (batch_size, num_classes)\n",
    "    one_hot_matrix = np.zeros((batch_size, n_classes))\n",
    "\n",
    "    # Fill in the appropriate elements\n",
    "    one_hot_matrix[np.arange(batch_size), y_batch] = 1\n",
    "\n",
    "    return one_hot_matrix\n"
   ]
  },
  {
   "cell_type": "code",
   "execution_count": null,
   "metadata": {},
   "outputs": [],
   "source": [
    "def mnist_batch_tfm(x, y):\n",
    "    return (x.reshape(x.shape[0], -1) / 255 - 0.5, y)\n"
   ]
  },
  {
   "cell_type": "code",
   "execution_count": null,
   "metadata": {},
   "outputs": [],
   "source": [
    "from tidygrad.utils.datasets import download_file\n",
    "import os\n",
    "from pathlib import Path\n"
   ]
  },
  {
   "cell_type": "code",
   "execution_count": null,
   "metadata": {},
   "outputs": [],
   "source": [
    "class MNIST(Dataset):\n",
    "    \"\"\"MNIST Dataset\"\"\"\n",
    "    def __init__(\n",
    "        self,\n",
    "        path=\"datasets\",\n",
    "        url=None,\n",
    "        train=True,\n",
    "        item_tfms=(),\n",
    "    ):\n",
    "        self.item_tfms = item_tfms\n",
    "        self.path = Path(path)\n",
    "        self.train = train\n",
    "        self.url = (url if url is not None else \"https://storage.googleapis.com/tensorflow/tf-keras-datasets/mnist.npz\")\n",
    "        self.load_data()\n",
    "\n",
    "    def load_data(self):\n",
    "        file_path = self.path / \"mnist.npz\"\n",
    "        download_file(\n",
    "            \"https://storage.googleapis.com/tensorflow/tf-keras-datasets/mnist.npz\",\n",
    "            file_path,\n",
    "        )\n",
    "        with np.load(file_path) as f:\n",
    "            self.x = f[\"x_train\"] if self.train else f[\"x_test\"]\n",
    "            self.y = f[\"y_train\"] if self.train else f[\"y_test\"]\n",
    "\n",
    "            self.x = self.x.astype(np.float32)\n",
    "            self.y = self.y.astype(np.int32)\n",
    "\n",
    "    def __getitem__(self, idx):\n",
    "        if not isinstance(idx, int):\n",
    "            raise TypeError(\"Index must be an integer.\")\n",
    "\n",
    "        x, y = self.x[idx], self.y[idx]\n",
    "        for tfm in self.item_tfms:\n",
    "            x, y = tfm(x, y)\n",
    "        return x, y\n",
    "\n",
    "    def __len__(self):\n",
    "        return len(self.x)\n",
    "\n",
    "    def shuffle(self):\n",
    "        idx = np.random.permutation(len(self))\n",
    "        self.x, self.y = self.x[idx], self.y[idx]\n",
    "\n",
    "    def collate_fn(self, batch: list):\n",
    "        return np.stack([item[0] for item in batch]), np.stack([item[1] for item in batch])\n"
   ]
  },
  {
   "cell_type": "code",
   "execution_count": null,
   "metadata": {},
   "outputs": [],
   "source": [
    "mnist = MNIST()\n"
   ]
  },
  {
   "cell_type": "code",
   "execution_count": null,
   "metadata": {},
   "outputs": [],
   "source": [
    "from lovely_numpy import Lo\n",
    "import matplotlib.pyplot as plt\n"
   ]
  },
  {
   "cell_type": "code",
   "execution_count": null,
   "metadata": {},
   "outputs": [
    {
     "data": {
      "text/plain": [
       "(array[60000, 28, 28] f32 n=47040000 (0.2Gb) x∈[0., 255.000] μ=33.318 σ=78.567,\n",
       " array[60000] i32 0.2Mb x∈[0, 9] μ=4.454 σ=2.889)"
      ]
     },
     "execution_count": null,
     "metadata": {},
     "output_type": "execute_result"
    }
   ],
   "source": [
    "Lo(mnist.x), Lo(mnist.y)\n"
   ]
  },
  {
   "cell_type": "code",
   "execution_count": null,
   "metadata": {},
   "outputs": [
    {
     "data": {
      "text/plain": [
       "array[28, 28] f32 n=784 (3.1Kb) x∈[0., 255.000] μ=35.108 σ=79.649"
      ]
     },
     "execution_count": null,
     "metadata": {},
     "output_type": "execute_result"
    }
   ],
   "source": [
    "Lo(mnist[0][0])\n"
   ]
  },
  {
   "cell_type": "code",
   "execution_count": null,
   "metadata": {},
   "outputs": [],
   "source": [
    "# plt.imshow(mnist.x[0])\n"
   ]
  },
  {
   "cell_type": "code",
   "execution_count": null,
   "metadata": {},
   "outputs": [],
   "source": [
    "mnist_dl = DataLoader(mnist, batch_size=64, batch_tfms=[mnist_batch_tfm])\n",
    "x, y = next(iter(mnist_dl))\n"
   ]
  },
  {
   "cell_type": "code",
   "execution_count": null,
   "metadata": {},
   "outputs": [
    {
     "data": {
      "text/plain": [
       "<__main__.DataLoader>"
      ]
     },
     "execution_count": null,
     "metadata": {},
     "output_type": "execute_result"
    }
   ],
   "source": [
    "mnist_dl\n"
   ]
  },
  {
   "cell_type": "code",
   "execution_count": null,
   "metadata": {},
   "outputs": [],
   "source": [
    "from tidygrad.functional import sigmoid, BCE_loss\n",
    "from tidygrad.optim import Adam\n",
    "from functools import partial\n"
   ]
  },
  {
   "cell_type": "code",
   "execution_count": null,
   "metadata": {},
   "outputs": [],
   "source": [
    "INT_DIM = 128\n",
    "\n",
    "w1 = Tensor(np.random.randn(784, INT_DIM) * 1, \"w1\")\n",
    "b1 = Tensor(np.ones((1, INT_DIM)) * 0.1, \"b1\")\n",
    "\n",
    "w2 = Tensor(np.random.randn(INT_DIM, 10) * 1, \"w2\")\n",
    "# b2 = Tensor(np.zeros((1, 10)), \"b2\")\n",
    "\n",
    "\n",
    "def linear_model(inputs, params, debug=list()):\n",
    "    inputs.data = inputs.data.reshape(inputs.data.shape[0], -1)\n",
    "    x = inputs\n",
    "    w1, b1, w2 = params\n",
    "    z1 = sigmoid(x.mmul(w1, \"z1\") + b1)\n",
    "    z2 = z1.mmul(w2, \"z2\")\n",
    "\n",
    "    return z2\n",
    "\n",
    "\n",
    "MM_func = partial(linear_model, params=[w1, b1, w2])\n",
    "\n",
    "optimizer = Adam([w1, b1, w2], lr=0.001)\n",
    "loss_f = lambda preds, targets: BCE_loss(preds, one_hot_encode_batch(targets.data, 10))\n",
    "metrics = []\n",
    "\n",
    "student = Learner(\n",
    "    dataloaders=DataLoaders(mnist_dl, mnist_dl),\n",
    "    model=MM_func,\n",
    "    loss_func=loss_f,\n",
    "    optimizer=optimizer,\n",
    "    callbacks=[DictLoggerCallback(metrics=metrics)],\n",
    ")\n"
   ]
  },
  {
   "cell_type": "code",
   "execution_count": null,
   "metadata": {},
   "outputs": [],
   "source": [
    "student.fit(epochs=5)\n",
    "# metrics\n"
   ]
  },
  {
   "cell_type": "code",
   "execution_count": null,
   "metadata": {},
   "outputs": [],
   "source": [
    "from matplotlib import pyplot as plt\n"
   ]
  },
  {
   "cell_type": "code",
   "execution_count": null,
   "metadata": {},
   "outputs": [
    {
     "data": {
      "image/png": "[encoded data removed]",
      "text/plain": [
       "<Figure size 1200x600 with 2 Axes>"
      ]
     },
     "metadata": {},
     "output_type": "display_data"
    }
   ],
   "source": [
    "# [{'step': 0, 'epoch': 1, 'loss': 1749.5567287118765, 'error': 0.859375},\n",
    "#  {'step': 1, 'loss': 1601.6047416180406, 'error': 0.875},\n",
    "#  {'step': 2, 'loss': 1745.9560457111977, 'error': 0.890625},\n",
    "#  {'step': 3, 'loss': 1699.4515380436496, 'error': 0.875},\n",
    "#  {'step': 4, 'loss': 1577.375057199632, 'error': 0.859375},\n",
    "#  {'step': 5, 'loss': 1365.698424993677, 'error': 0.859375},\n",
    "#  {'step': 6, 'loss': 1344.940893761817, 'error': 0.90625},\n",
    "#  {'step': 7, 'loss': 1232.984272741041, 'error': 0.9375},\n",
    "#  {'step': 8, 'loss': 1201.955485184156, 'error': 0.90625},\n",
    "#  {'step': 9, 'loss': 952.4247807282655, 'error': 0.90625},\n",
    "#  {'step': 10, 'loss': 1006.2738835333373, 'error': 0.875},\n",
    "#  {'step': 11, 'loss': 813.0388986738951, 'error': 0.890625},\n",
    "#  ...\n",
    "# {'step': 931, 'loss': 58.18602855000384, 'error': 0.15625},\n",
    "#  {'step': 932, 'loss': 76.38823440023558, 'error': 0.203125},\n",
    "#  {'step': 933, 'loss': 67.58771792428136, 'error': 0.15625},\n",
    "#  {'step': 934, 'loss': 69.71772686297123, 'error': 0.21875},\n",
    "#  {'step': 935, 'loss': 92.22990453131322, 'error': 0.25},\n",
    "#  {'step': 936, 'loss': 73.7377055829916, 'error': 0.15625},\n",
    "#  {'step': 937, 'val_loss': 75.72548226285275, 'val_error': 0.1858991462113127}]\n",
    "\n",
    "losses = []\n",
    "errors = []\n",
    "val_losses = []\n",
    "val_errors = []\n",
    "\n",
    "for idx, data in enumerate(metrics[50:]):\n",
    "    if 'loss' in data: losses.append((idx, data['loss']))\n",
    "    if 'error' in data: errors.append((idx, data['error']))\n",
    "    if 'val_loss' in data: val_losses.append((idx, data['val_loss']))\n",
    "    if 'val_error' in data: val_errors.append((idx, data['val_error']))\n",
    "\n",
    "plt.figure(figsize=(12, 6))\n",
    "\n",
    "plt.subplot(1, 2, 1)\n",
    "plt.plot(*zip(*losses), label='Training Loss')\n",
    "plt.plot(*zip(*val_losses), label='Validation Loss')\n",
    "plt.title('Loss during training and validation')\n",
    "plt.legend()\n",
    "\n",
    "plt.subplot(1, 2, 2)\n",
    "plt.plot(*zip(*errors), label='Training Error')\n",
    "plt.plot(*zip(*val_errors), label='Validation Error')\n",
    "plt.title('Error during training and validation')\n",
    "plt.legend()\n",
    "\n",
    "plt.show()\n"
   ]
  }
 ],
 "metadata": {
  "kernelspec": {
   "display_name": "python3",
   "language": "python",
   "name": "python3"
  }
 },
 "nbformat": 4,
 "nbformat_minor": 2
}
