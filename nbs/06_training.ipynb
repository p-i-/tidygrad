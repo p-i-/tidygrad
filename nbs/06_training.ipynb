{
 "cells": [
  {
   "attachments": {},
   "cell_type": "markdown",
   "metadata": {},
   "source": [
    "### Training loop stuff\n"
   ]
  },
  {
   "cell_type": "code",
   "execution_count": null,
   "metadata": {},
   "outputs": [],
   "source": [
    "# | default_exp training\n",
    "# | hide\n",
    "import nbdev\n",
    "\n",
    "nbdev.nbdev_export()\n",
    "from nbdev.showdoc import *"
   ]
  },
  {
   "cell_type": "code",
   "execution_count": null,
   "metadata": {},
   "outputs": [],
   "source": [
    "# | export\n",
    "from tidygrad.tensor import Tensor\n",
    "from tidygrad.utils import noop\n",
    "import numpy as np"
   ]
  },
  {
   "cell_type": "code",
   "execution_count": null,
   "metadata": {},
   "outputs": [],
   "source": [
    "# | export\n",
    "def add_callbacks(func):\n",
    "    # print(\"Adding callbacks\", func.__name__)\n",
    "\n",
    "    def decorator(self):\n",
    "        full_name = func.__name__.replace(\"do_\", \"\")\n",
    "        pre_name = f\"pre_{full_name}\"\n",
    "        post_name = f\"post_{full_name}\"\n",
    "        for callback in self.callbacks:\n",
    "            getattr(callback, pre_name, noop)(self)\n",
    "\n",
    "        func(self)\n",
    "        for callback in self.callbacks:\n",
    "            getattr(callback, post_name, noop)(self)\n",
    "\n",
    "    return decorator"
   ]
  },
  {
   "cell_type": "code",
   "execution_count": null,
   "metadata": {},
   "outputs": [],
   "source": [
    "# | export\n",
    "\n",
    "class DictLoggerCallback:\n",
    "    val_loss = 0\n",
    "    val_error = 0\n",
    "\n",
    "    def __init__(self, metrics=None):\n",
    "        self.metrics = [] if metrics is None else metrics\n",
    "\n",
    "    def log(self, learner, metric, value, accum=False, step: int = None):\n",
    "        if not hasattr(learner, \"metrics\"): learner.metrics = self.metrics\n",
    "        if step is None:\n",
    "            step = self.metrics[-1][\"step\"] + 1 if self.metrics else 0\n",
    "\n",
    "        if not self.metrics or step != self.metrics[-1][\"step\"]:\n",
    "            self.metrics.append({\"step\": step})\n",
    "\n",
    "        if metric in self.metrics[-1] and accum:\n",
    "            self.metrics[-1][metric] += value\n",
    "        else:\n",
    "            self.metrics[-1][metric] = value\n",
    "\n",
    "    def post_calc_loss(self, learner):\n",
    "        if learner.training:\n",
    "            self.log(learner, \"loss\", float(learner.loss.data), step=learner.step)\n",
    "            self.log(learner, \"error\", 1 - float((learner.preds.data.argmax(1) == learner.batch[1].data).mean()), step=learner.step)\n",
    "        else:\n",
    "            self.val_loss += float(learner.loss.data)\n",
    "            self.val_error += 1 - float((learner.preds.data.argmax(1) == learner.batch[1].data).mean())\n",
    "            # self.log(\"val_loss\", float(learner.loss.data), accum=True, step=learner.step)\n",
    "\n",
    "    def post_epoch(self, learner):\n",
    "        # val_loss = self.metrics[-1][\"val_loss\"] / len(learner.dl)\n",
    "        self.log(learner, \"val_loss\", self.val_loss / len(learner.dl), step=learner.step)\n",
    "        self.log(learner, \"val_error\", self.val_error / len(learner.dl), step=learner.step)\n",
    "        # self.log(\"epoch\", learner.epoch, step=learner.step)\n",
    "        self.val_loss = 0\n",
    "        self.val_error = 0"
   ]
  },
  {
   "cell_type": "code",
   "execution_count": null,
   "metadata": {},
   "outputs": [],
   "source": [
    "# | export\n",
    "\n",
    "class Learner:\n",
    "    # dataloaders - train, test\n",
    "    # model - function that outputs a tensor that can be fed into a loss function\n",
    "    # loss_func - function that takes in a tensor and outputs a scalar\n",
    "    # optimizer - Optimizer object\n",
    "    def __init__(self, dataloaders, model, loss_func, optimizer, callbacks=[]):\n",
    "        self.dataloaders = dataloaders\n",
    "        self.model = model\n",
    "        self.loss_func = loss_func\n",
    "        self.optimizer = optimizer\n",
    "        self.callbacks = callbacks if callbacks else []\n",
    "\n",
    "        # The state of the learner. These are updated during training by various do_ functions\n",
    "        self.training = False  # True if training, False if val/test.\n",
    "        self.epoch = 0  # current epoch, starts with 1 when you start trainig.\n",
    "        self.step = 0  # current step, increases by 1 every (training) batch\n",
    "        self.dl = None  # current dataloader, could be train or test or val\n",
    "        self.batch = None  # The current batch as a tuple of (x, y)\n",
    "        self.preds: Tensor = None  # Output of the model\n",
    "\n",
    "    def fit(self, epochs, start_epoch=0, start_step=None):\n",
    "        self.start_epoch = start_epoch\n",
    "        self.n_epochs = epochs\n",
    "        self.step = self.step if start_step is None else start_step\n",
    "        self.do_fit()\n",
    "\n",
    "    @add_callbacks\n",
    "    def do_fit(self):\n",
    "        for e in range(self.start_epoch + 1, self.start_epoch + 1 + self.n_epochs):\n",
    "            self.epoch = e\n",
    "            self.do_epoch()\n",
    "\n",
    "    @add_callbacks\n",
    "    def do_epoch(self):\n",
    "        self.training = True\n",
    "        self.dl = self.dataloaders.train\n",
    "        self.do_all_batches()\n",
    "        self.dl = self.dataloaders.test\n",
    "        self.training = False\n",
    "        self.do_all_batches()\n",
    "\n",
    "    @add_callbacks\n",
    "    def do_all_batches(self):\n",
    "        for batch in self.dl:\n",
    "            if self.training: self.step += 1\n",
    "            self.batch = batch\n",
    "            self.do_batch_forward()\n",
    "            self.do_calc_loss()\n",
    "            if self.training: self.do_batch_backward()\n",
    "\n",
    "    @add_callbacks\n",
    "    def do_calc_loss(self):\n",
    "        _, y = self.batch\n",
    "        self.loss = self.loss_func(self.preds, y)\n",
    "\n",
    "    @add_callbacks\n",
    "    def do_batch_forward(self):\n",
    "        x, _ = self.batch\n",
    "        self.preds = self.model(x)\n",
    "\n",
    "    @add_callbacks\n",
    "    def do_batch_backward(self):\n",
    "        self.loss.backward()\n",
    "        self.optimizer.step()\n",
    "        self.optimizer.zero_grad()"
   ]
  },
  {
   "cell_type": "code",
   "execution_count": null,
   "metadata": {},
   "outputs": [],
   "source": [
    "#| export\n",
    "from tqdm.auto import tqdm"
   ]
  },
  {
   "cell_type": "code",
   "execution_count": null,
   "metadata": {},
   "outputs": [],
   "source": [
    "#| export\n",
    "class ProgressBarCallback:\n",
    "    def __init__(self):\n",
    "        pass\n",
    "\n",
    "    def pre_all_batches(self, learner):\n",
    "        if learner.training:\n",
    "            self.pbar = tqdm(total=len(learner.dl), desc=f\"Epoch {learner.epoch}\")\n",
    "\n",
    "    def post_calc_loss(self, learner):\n",
    "        if learner.training:\n",
    "            # print(learner.metrics[-1][\"loss\"])\n",
    "            self.pbar.update(1)\n",
    "            self.pbar.set_postfix_str(f\"loss={learner.metrics[-1]['loss']:.4f}, error={learner.metrics[-1]['error']:.4f}\")"
   ]
  },
  {
   "cell_type": "code",
   "execution_count": null,
   "metadata": {},
   "outputs": [],
   "source": [
    "#| export\n",
    "def one_hot_encode_batch(y_batch, n_classes):\n",
    "    batch_size = len(y_batch)\n",
    "    assert batch_size > 0\n",
    "    assert n_classes > 0\n",
    "    assert y_batch.shape == (batch_size, )\n",
    "    assert np.min(y_batch) >= 0\n",
    "\n",
    "    # Initialize a zero matrix of shape (batch_size, num_classes)\n",
    "    one_hot_matrix = np.zeros((batch_size, n_classes))\n",
    "\n",
    "    # Fill in the appropriate elements\n",
    "    one_hot_matrix[np.arange(batch_size), y_batch] = 1\n",
    "\n",
    "    return one_hot_matrix"
   ]
  },
  {
   "cell_type": "code",
   "execution_count": null,
   "metadata": {},
   "outputs": [],
   "source": [
    "from tidygrad.utils.data import DataLoader, DataLoaders\n",
    "from tidygrad.utils.datasets import MNIST, mnist_batch_tfm\n",
    "from tidygrad.functional import sigmoid, BCE_loss, CrossEntropy_loss\n",
    "from tidygrad.optim import Adam\n",
    "from functools import partial\n",
    "from matplotlib import pyplot as plt"
   ]
  },
  {
   "cell_type": "code",
   "execution_count": null,
   "metadata": {},
   "outputs": [],
   "source": [
    "BS = 64\n",
    "\n",
    "mnist_train = DataLoader(MNIST(), batch_size=BS, shuffle=False, batch_tfms=[mnist_batch_tfm])\n",
    "mnist_test = DataLoader(MNIST(train=False), batch_size=BS, shuffle=False, batch_tfms=[mnist_batch_tfm])\n",
    "\n",
    "INT_DIM = 128\n",
    "\n",
    "w1 = Tensor(np.random.randn(784, INT_DIM) * 1, \"w1\")\n",
    "b1 = Tensor(np.ones((1, INT_DIM)) * 0.1, \"b1\")\n",
    "\n",
    "w2 = Tensor(np.random.randn(INT_DIM, 10) * 1, \"w2\")\n",
    "# b2 = Tensor(np.zeros((1, 10)), \"b2\")\n",
    "\n",
    "def linear_model(inputs, params, debug=list()):\n",
    "    inputs.data = inputs.data.reshape(inputs.data.shape[0], -1)\n",
    "    x = inputs\n",
    "    w1, b1, w2 = params\n",
    "    z1 = sigmoid(x.mmul(w1, \"z1\") + b1)\n",
    "    z2 = z1.mmul(w2, \"z2\")\n",
    "\n",
    "    return z2\n",
    "\n",
    "MM_func = partial(linear_model, params=[w1, b1, w2])\n",
    "\n",
    "optimizer = Adam([w1, b1, w2], lr=0.001)\n",
    "loss_f = lambda preds, targets: BCE_loss(preds, one_hot_encode_batch(targets.data, 10))\n",
    "# loss_f = lambda preds, targets: CrossEntropy_loss(preds, one_hot_encode_batch(targets.data, 10))\n",
    "\n",
    "student = Learner(\n",
    "    dataloaders=DataLoaders(mnist_train, mnist_test),\n",
    "    model=MM_func,\n",
    "    loss_func=loss_f,\n",
    "    optimizer=optimizer,\n",
    "    callbacks=[DictLoggerCallback(), ProgressBarCallback()],\n",
    ")"
   ]
  },
  {
   "cell_type": "code",
   "execution_count": null,
   "metadata": {},
   "outputs": [
    {
     "data": {
      "application/vnd.jupyter.widget-view+json": {
       "model_id": "e3b77904771b4953bc67cdace1e7d035",
       "version_major": 2,
       "version_minor": 0
      },
      "text/plain": [
       "Epoch 1:   0%|          | 0/937 [00:00<?, ?it/s]"
      ]
     },
     "metadata": {},
     "output_type": "display_data"
    },
    {
     "data": {
      "application/vnd.jupyter.widget-view+json": {
       "model_id": "8efd61b8c5324549b3a534b126eb2da5",
       "version_major": 2,
       "version_minor": 0
      },
      "text/plain": [
       "Epoch 2:   0%|          | 0/937 [00:00<?, ?it/s]"
      ]
     },
     "metadata": {},
     "output_type": "display_data"
    },
    {
     "data": {
      "application/vnd.jupyter.widget-view+json": {
       "model_id": "1417b22c44404fe392abd91b047b80bb",
       "version_major": 2,
       "version_minor": 0
      },
      "text/plain": [
       "Epoch 3:   0%|          | 0/937 [00:00<?, ?it/s]"
      ]
     },
     "metadata": {},
     "output_type": "display_data"
    },
    {
     "data": {
      "application/vnd.jupyter.widget-view+json": {
       "model_id": "30897b543f124be69036983d6b6f4b76",
       "version_major": 2,
       "version_minor": 0
      },
      "text/plain": [
       "Epoch 4:   0%|          | 0/937 [00:00<?, ?it/s]"
      ]
     },
     "metadata": {},
     "output_type": "display_data"
    },
    {
     "data": {
      "application/vnd.jupyter.widget-view+json": {
       "model_id": "771eb61c31c440fa9c95bb6ee7553c7e",
       "version_major": 2,
       "version_minor": 0
      },
      "text/plain": [
       "Epoch 5:   0%|          | 0/937 [00:00<?, ?it/s]"
      ]
     },
     "metadata": {},
     "output_type": "display_data"
    }
   ],
   "source": [
    "#| eval: false\n",
    "student.fit(epochs=5)\n",
    "student.metrics[-1]"
   ]
  },
  {
   "cell_type": "code",
   "execution_count": null,
   "metadata": {},
   "outputs": [
    {
     "data": {
      "text/plain": [
       "{'step': 4685,\n",
       " 'loss': 0.07427763076147674,\n",
       " 'error': 0.09375,\n",
       " 'val_loss': 0.05190171994043634,\n",
       " 'val_error': 0.07572115384615384}"
      ]
     },
     "execution_count": null,
     "metadata": {},
     "output_type": "execute_result"
    }
   ],
   "source": []
  },
  {
   "cell_type": "code",
   "execution_count": null,
   "metadata": {},
   "outputs": [],
   "source": [
    "# BCE loss:\n",
    "\n",
    "# {'step': 4685,\n",
    "#  'loss': 0.07427763076147674,\n",
    "#  'error': 0.09375,\n",
    "#  'val_loss': 0.05190171994043634,\n",
    "#  'val_error': 0.07572115384615384}\n",
    "\n",
    "# Cross entropy loss\n",
    "# {'step': 4685,\n",
    "#  'loss': 0.04031534545340052,\n",
    "#  'error': 0.078125,\n",
    "#  'val_loss': 0.026959319073845904,\n",
    "#  'val_error': 0.07872596153846154}"
   ]
  },
  {
   "cell_type": "code",
   "execution_count": null,
   "metadata": {},
   "outputs": [
    {
     "data": {
      "image/png": "[encoded data removed]",
      "text/plain": [
       "<Figure size 1200x600 with 2 Axes>"
      ]
     },
     "metadata": {},
     "output_type": "display_data"
    }
   ],
   "source": [
    "#| eval: false\n",
    "\n",
    "losses = []\n",
    "errors = []\n",
    "val_losses = []\n",
    "val_errors = []\n",
    "\n",
    "for idx, data in enumerate(student.metrics[50:]):\n",
    "    if 'loss' in data: losses.append((idx, data['loss']))\n",
    "    if 'error' in data: errors.append((idx, data['error']))\n",
    "    if 'val_loss' in data: val_losses.append((idx, data['val_loss']))\n",
    "    if 'val_error' in data: val_errors.append((idx, data['val_error']))\n",
    "\n",
    "plt.figure(figsize=(12, 6))\n",
    "\n",
    "plt.subplot(1, 2, 1)\n",
    "plt.plot(*zip(*losses), label='Training Loss')\n",
    "plt.plot(*zip(*val_losses), label='Validation Loss')\n",
    "plt.title('Loss during training and validation')\n",
    "plt.legend()\n",
    "\n",
    "plt.subplot(1, 2, 2)\n",
    "plt.plot(*zip(*errors), label='Training Error')\n",
    "plt.plot(*zip(*val_errors), label='Validation Error')\n",
    "plt.title('Error during training and validation')\n",
    "plt.legend()\n",
    "\n",
    "plt.show()"
   ]
  }
 ],
 "metadata": {
  "kernelspec": {
   "display_name": "python3",
   "language": "python",
   "name": "python3"
  }
 },
 "nbformat": 4,
 "nbformat_minor": 2
}
