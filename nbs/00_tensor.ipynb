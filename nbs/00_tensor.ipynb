{
 "cells": [
  {
   "cell_type": "code",
   "execution_count": null,
   "metadata": {},
   "outputs": [],
   "source": [
    "# | hide\n",
    "import nbdev\n",
    "\n",
    "nbdev.nbdev_export()"
   ]
  },
  {
   "attachments": {},
   "cell_type": "markdown",
   "metadata": {},
   "source": [
    "# Tidy Tensors\n"
   ]
  },
  {
   "cell_type": "code",
   "execution_count": null,
   "metadata": {},
   "outputs": [],
   "source": [
    "# | default_exp core"
   ]
  },
  {
   "cell_type": "code",
   "execution_count": null,
   "metadata": {},
   "outputs": [],
   "source": [
    "# | hide\n",
    "from nbdev.showdoc import *"
   ]
  },
  {
   "cell_type": "code",
   "execution_count": null,
   "metadata": {},
   "outputs": [],
   "source": [
    "import numpy as np"
   ]
  },
  {
   "cell_type": "code",
   "execution_count": null,
   "metadata": {},
   "outputs": [],
   "source": [
    "# | export\n",
    "\n",
    "\n",
    "class Tensor:\n",
    "    op = \"L\"\n",
    "    name: str = \"\"\n",
    "    parents: list = []\n",
    "\n",
    "    def __init__(self, data, name=\"\"):\n",
    "        self.data = data\n",
    "        self.name = name\n",
    "        self.grad = np.zeros_like(self.data)\n",
    "\n",
    "    # XXXX Fix broadcasting!\n",
    "    def broadcast(self, other_shape):\n",
    "        if self.data.shape == other_shape:\n",
    "            return self\n",
    "\n",
    "    def add(self, other, name):\n",
    "        out = AddTensor(data=self.data + other.data, name=name)\n",
    "        out.parents = [self, other]\n",
    "        return out\n",
    "\n",
    "    def sub(self, other, name):\n",
    "        out = SubTensor(data=self.data - other.data, name=name)\n",
    "        out.parents = [self, other]\n",
    "        return out\n",
    "\n",
    "    def mul(self, other, name):\n",
    "        out = MulTensor(data=self.data * other.data, name=name)\n",
    "        out.parents = [self, other]\n",
    "        return out\n",
    "\n",
    "    def mmul(self, other, name):\n",
    "        out = MatMulTensor(data=np.matmul(self.data, other.data), name=name)\n",
    "        out.parents = [self, other]\n",
    "        return out\n",
    "\n",
    "    def sum(self, name):\n",
    "        out = SumTensor(data=self.data.sum(), name=name)\n",
    "        out.parents = [self]\n",
    "        return out\n",
    "\n",
    "    def sigmoid(self, name):\n",
    "        out = SigmoidTensor(data=1 / (1 + np.exp(-self.data)), name=name)\n",
    "        out.parents = [self]\n",
    "        return out\n",
    "\n",
    "    def backward(self):\n",
    "        # Create a list of all parent nodes, in reverse order\n",
    "        # Start with the current node\n",
    "        visited = []\n",
    "        nodes = []\n",
    "\n",
    "        def walk(node):\n",
    "            for p in node.parents:\n",
    "                if p not in visited:\n",
    "                    visited.append(p)\n",
    "                    walk(p)\n",
    "                    nodes.append(p)\n",
    "\n",
    "        walk(self)\n",
    "        nodes.append(self)\n",
    "\n",
    "        # print(nodes)\n",
    "        self.grad = np.ones_like(self.data)\n",
    "        for n in nodes[::-1]:\n",
    "            if hasattr(n, \"_backward\"):\n",
    "                n._backward()\n",
    "\n",
    "    def __repr__(self):\n",
    "        res = f\"[{self.op or ''}] {self.name}={str(self.data)} {self.name}.grad={str(self.grad)}\"\n",
    "        if self.parents:\n",
    "            res += (\n",
    "                f\" {self.name}.parents=[\" + \",\".join([p.name for p in self.parents]) + \"]\"\n",
    "            )\n",
    "\n",
    "        return f\"Tensor({res})\"\n",
    "\n",
    "\n",
    "class AddTensor(Tensor):\n",
    "    op = \"+\"\n",
    "\n",
    "    def _backward(self):\n",
    "        self.parents[0].grad += self.grad\n",
    "        self.parents[1].grad += self.grad\n",
    "\n",
    "\n",
    "class SubTensor(Tensor):\n",
    "    op = \"-\"\n",
    "\n",
    "    def _backward(self):\n",
    "        self.parents[0].grad += self.grad\n",
    "        self.parents[1].grad -= self.grad\n",
    "\n",
    "\n",
    "class MulTensor(Tensor):\n",
    "    op = \"*\"\n",
    "\n",
    "    def _backward(self):\n",
    "        self.parents[0].grad += self.grad * self.parents[1].data\n",
    "        self.parents[1].grad += self.grad * self.parents[0].data\n",
    "\n",
    "\n",
    "class MatMulTensor(Tensor):\n",
    "    op = \"@\"\n",
    "\n",
    "    def _backward(self):\n",
    "        # print(self.grad)\n",
    "        self.parents[0].grad += np.matmul(self.grad, self.parents[1].data.T)\n",
    "        self.parents[1].grad += np.matmul(self.parents[0].data.T, self.grad)\n",
    "\n",
    "\n",
    "class SumTensor(Tensor):\n",
    "    op = \"sum\"\n",
    "\n",
    "    def _backward(self):\n",
    "        self.parents[0].grad += self.grad\n",
    "\n",
    "\n",
    "class SigmoidTensor(Tensor):\n",
    "    op = \"sigmoid\"\n",
    "\n",
    "    def _backward(self):\n",
    "        self.parents[0].grad += self.grad * self.data * (1 - self.data)"
   ]
  },
  {
   "cell_type": "code",
   "execution_count": null,
   "metadata": {},
   "outputs": [
    {
     "name": "stdout",
     "output_type": "stream",
     "text": [
      "Tensor([+] e=5 e.grad=0 e.parents=[c,d])\n"
     ]
    }
   ],
   "source": [
    "a = Tensor(1, \"a\")\n",
    "b = Tensor(2, \"b\")\n",
    "\n",
    "c = a.add(b, \"c\")\n",
    "d = a.mul(b, \"d\")\n",
    "e = c.add(d, \"e\")\n",
    "\n",
    "\n",
    "print(e)\n",
    "\n",
    "e.grad = 1\n",
    "# e.backward()"
   ]
  },
  {
   "cell_type": "code",
   "execution_count": null,
   "metadata": {},
   "outputs": [
    {
     "name": "stdout",
     "output_type": "stream",
     "text": [
      "Tensor([@] c=[[8. 8. 8.]\n",
      " [8. 8. 8.]\n",
      " [8. 8. 8.]] c.grad=[[0. 0. 0.]\n",
      " [0. 0. 0.]\n",
      " [0. 0. 0.]] c.parents=[a,b])\n",
      "Tensor([sum] s=72.0 s.grad=0.0 s.parents=[c])\n"
     ]
    }
   ],
   "source": [
    "a = Tensor(np.ones((3, 4)), \"a\")\n",
    "b = Tensor(np.ones((4, 3)) * 2, \"b\")\n",
    "\n",
    "c = a.mmul(b, \"c\")\n",
    "print(c)\n",
    "\n",
    "s = c.sum(\"s\")\n",
    "print(s)\n",
    "s.backward()"
   ]
  },
  {
   "cell_type": "code",
   "execution_count": null,
   "metadata": {},
   "outputs": [
    {
     "data": {
      "text/plain": [
       "Tensor([sum] s=72.0 s.grad=1.0 s.parents=[c])"
      ]
     },
     "execution_count": null,
     "metadata": {},
     "output_type": "execute_result"
    }
   ],
   "source": [
    "s"
   ]
  },
  {
   "cell_type": "code",
   "execution_count": null,
   "metadata": {},
   "outputs": [
    {
     "data": {
      "text/plain": [
       "(array([[6., 6., 6., 6.],\n",
       "        [6., 6., 6., 6.],\n",
       "        [6., 6., 6., 6.]]),\n",
       " array([[3., 3., 3.],\n",
       "        [3., 3., 3.],\n",
       "        [3., 3., 3.],\n",
       "        [3., 3., 3.]]))"
      ]
     },
     "execution_count": null,
     "metadata": {},
     "output_type": "execute_result"
    }
   ],
   "source": [
    "a.grad, b.grad"
   ]
  },
  {
   "cell_type": "code",
   "execution_count": null,
   "metadata": {},
   "outputs": [
    {
     "name": "stdout",
     "output_type": "stream",
     "text": [
      "Tensor([sum] s=2.2148644106887265 s.grad=0.0 s.parents=[c_rand])\n",
      "[[ 1.33598911 -2.35323976  0.85234615 -0.82225416]\n",
      " [ 1.33598911 -2.35323976  0.85234615 -0.82225416]\n",
      " [ 1.33598911 -2.35323976  0.85234615 -0.82225416]]\n",
      "[[-0.35446622 -0.35446622 -0.35446622 -0.35446622 -0.35446622]\n",
      " [-0.10999714 -0.10999714 -0.10999714 -0.10999714 -0.10999714]\n",
      " [ 0.08977331  0.08977331  0.08977331  0.08977331  0.08977331]\n",
      " [-2.8617184  -2.8617184  -2.8617184  -2.8617184  -2.8617184 ]]\n"
     ]
    }
   ],
   "source": [
    "b_rand = Tensor(np.random.randn(4, 5), \"b_rand\")\n",
    "a_rand = Tensor(np.random.randn(3, 4), \"a_rand\")\n",
    "\n",
    "s = a_rand.mmul(b_rand, \"c_rand\").sum(\"s\")\n",
    "print(s)\n",
    "s.backward()\n",
    "print(a_rand.grad)\n",
    "print(b_rand.grad)"
   ]
  },
  {
   "cell_type": "code",
   "execution_count": null,
   "metadata": {},
   "outputs": [
    {
     "data": {
      "text/plain": [
       "(tensor([[ 1.3360, -2.3532,  0.8523, -0.8223],\n",
       "         [ 1.3360, -2.3532,  0.8523, -0.8223],\n",
       "         [ 1.3360, -2.3532,  0.8523, -0.8223]], dtype=torch.float64),\n",
       " tensor([[-0.3545, -0.3545, -0.3545, -0.3545, -0.3545],\n",
       "         [-0.1100, -0.1100, -0.1100, -0.1100, -0.1100],\n",
       "         [ 0.0898,  0.0898,  0.0898,  0.0898,  0.0898],\n",
       "         [-2.8617, -2.8617, -2.8617, -2.8617, -2.8617]], dtype=torch.float64))"
      ]
     },
     "execution_count": null,
     "metadata": {},
     "output_type": "execute_result"
    }
   ],
   "source": [
    "# | eval: false\n",
    "import torch\n",
    "\n",
    "a = torch.tensor(a_rand.data, requires_grad=True)\n",
    "b = torch.tensor(b_rand.data, requires_grad=True)\n",
    "\n",
    "c = (a @ b).sum()\n",
    "\n",
    "c.backward()\n",
    "a.grad, b.grad"
   ]
  },
  {
   "cell_type": "code",
   "execution_count": null,
   "metadata": {},
   "outputs": [
    {
     "data": {
      "text/plain": [
       "True"
      ]
     },
     "execution_count": null,
     "metadata": {},
     "output_type": "execute_result"
    }
   ],
   "source": [
    "# | eval: false\n",
    "np.isclose(a_rand.grad, a.grad.numpy()).all()\n",
    "np.isclose(b_rand.grad, b.grad.numpy()).all()"
   ]
  },
  {
   "cell_type": "code",
   "execution_count": null,
   "metadata": {},
   "outputs": [
    {
     "data": {
      "image/png": "[encoded data removed]",
      "text/plain": [
       "<Figure size 640x480 with 1 Axes>"
      ]
     },
     "metadata": {},
     "output_type": "display_data"
    }
   ],
   "source": [
    "#| eval: false\n",
    "\n",
    "import matplotlib.pyplot as plt\n",
    "\n",
    "X = [\n",
    "    [0, 0],\n",
    "    [1, 0],\n",
    "    [0, 1],\n",
    "    [1, 1],\n",
    "]\n",
    "\n",
    "Y = [0, 1, 1, 0]\n",
    "\n",
    "w1 = Tensor(np.random.randn(2, 3)*0.1, \"w1\")\n",
    "b1 = Tensor(np.zeros((1, 3)), \"b1\")\n",
    "\n",
    "w2 = Tensor(np.random.randn(3, 1)*0.1, \"w2\")\n",
    "\n",
    "LR = 0.2\n",
    "\n",
    "# print(w1, b1, w2)\n",
    "\n",
    "losses = []\n",
    "\n",
    "for i in range(10000):\n",
    "    epoch_loss = 0\n",
    "    for x, y in zip(X, Y):\n",
    "        x = Tensor(np.array(x, dtype=float).reshape(1, 2), \"x\")\n",
    "        y = Tensor(np.array(y, dtype=float).reshape(1, 1), \"y\")\n",
    "\n",
    "        z1 = x.mmul(w1, \"z1\").add(b1, \"z1\").sigmoid(\"z1\")\n",
    "        z2 = z1.mmul(w2, \"z2\").sigmoid(\"z2\")\n",
    "\n",
    "        loss = z2.sub(y, \"loss\").mul(z2.sub(y, \"loss\"), \"loss\").sum(\"loss\")\n",
    "\n",
    "        # print(loss)\n",
    "        epoch_loss += loss.data\n",
    "\n",
    "        loss.backward()\n",
    "\n",
    "        w1.data -= LR * w1.grad\n",
    "        b1.data -= LR * b1.grad\n",
    "        w2.data -= LR * w2.grad\n",
    "\n",
    "        w1.grad = np.zeros_like(w1.grad)\n",
    "        b1.grad = np.zeros_like(b1.grad)\n",
    "        w2.grad = np.zeros_like(w2.grad)\n",
    "\n",
    "    losses.append(epoch_loss / len(X))\n",
    "\n",
    "plt.plot(losses)\n",
    "plt.yscale(\"log\")"
   ]
  }
 ],
 "metadata": {
  "kernelspec": {
   "display_name": "python3",
   "language": "python",
   "name": "python3"
  }
 },
 "nbformat": 4,
 "nbformat_minor": 4
}
