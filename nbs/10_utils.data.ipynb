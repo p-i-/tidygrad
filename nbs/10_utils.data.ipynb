{
 "cells": [
  {
   "cell_type": "code",
   "execution_count": null,
   "metadata": {},
   "outputs": [],
   "source": [
    "#| default_exp utils.data\n",
    "# | hide\n",
    "import nbdev\n",
    "from nbdev.showdoc import *\n",
    "\n",
    "nbdev.nbdev_export()\n"
   ]
  },
  {
   "cell_type": "code",
   "execution_count": null,
   "metadata": {},
   "outputs": [],
   "source": [
    "#| export\n",
    "from tidygrad.tensor import Tensor\n",
    "import os\n",
    "import requests\n"
   ]
  },
  {
   "cell_type": "code",
   "execution_count": null,
   "metadata": {},
   "outputs": [],
   "source": [
    "#| export\n",
    "def download_file(url, path):\n",
    "    dir_path = os.path.dirname(path)\n",
    "\n",
    "    os.makedirs(dir_path, exist_ok=True)\n",
    "    if not os.path.exists(path):\n",
    "        response = requests.get(url)\n",
    "        with open(path, \"wb\") as f:\n",
    "            f.write(response.content)"
   ]
  },
  {
   "cell_type": "code",
   "execution_count": null,
   "metadata": {},
   "outputs": [],
   "source": [
    "# | export\n",
    "### Fastai style\n",
    "class Dataset:\n",
    "    def __getitem__(self, idx):\n",
    "        raise NotImplementedError\n",
    "\n",
    "    def __len__(self):\n",
    "        raise NotImplementedError\n",
    "\n",
    "    def shuffle(self):\n",
    "        raise NotImplementedError\n",
    "\n",
    "    def collate_fn(self, batch):\n",
    "        raise NotImplementedError\n",
    "\n",
    "class DataLoader:\n",
    "    def __init__(self, dataset, batch_size=64, shuffle=True, batch_tfms=()):\n",
    "        self.batch_tfms = batch_tfms\n",
    "        self.dataset = dataset  # indexed dataset\n",
    "        self.batch_size = batch_size\n",
    "        self.shuffle = shuffle\n",
    "\n",
    "    def __len__(self):\n",
    "        return len(self.dataset) // self.batch_size\n",
    "\n",
    "    def __iter__(self):\n",
    "        if self.shuffle:\n",
    "            self.dataset.shuffle()\n",
    "        self.i = 0\n",
    "        return self\n",
    "\n",
    "    def __next__(self):\n",
    "        if self.i + self.batch_size > len(self.dataset):\n",
    "            raise StopIteration\n",
    "\n",
    "        batch = [self.dataset[self.i + i] for i in range(self.batch_size)]\n",
    "        self.i += self.batch_size\n",
    "        collated = self.dataset.collate_fn(batch)\n",
    "        for tfm in self.batch_tfms:\n",
    "            collated = tfm(*collated)\n",
    "        return [Tensor(t) for t in collated]\n",
    "\n",
    "class DataLoaders:\n",
    "    def __init__(self, train: DataLoader, test: DataLoader):\n",
    "        self.train = train\n",
    "        self.test = test"
   ]
  }
 ],
 "metadata": {
  "kernelspec": {
   "display_name": "python3",
   "language": "python",
   "name": "python3"
  }
 },
 "nbformat": 4,
 "nbformat_minor": 2
}
