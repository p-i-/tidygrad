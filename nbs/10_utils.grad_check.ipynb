{
 "cells": [
  {
   "cell_type": "code",
   "execution_count": null,
   "metadata": {},
   "outputs": [],
   "source": [
    "# | default_exp utils.grad_check\n",
    "# | hide\n",
    "import nbdev\n",
    "\n",
    "nbdev.nbdev_export()\n",
    "from nbdev.showdoc import *"
   ]
  },
  {
   "attachments": {},
   "cell_type": "markdown",
   "metadata": {},
   "source": [
    "### Tidy Utils\n"
   ]
  },
  {
   "cell_type": "code",
   "execution_count": null,
   "metadata": {},
   "outputs": [],
   "source": [
    "# | export\n",
    "from tidygrad.tensor import Tensor\n",
    "from tidygrad.functional import relu\n",
    "import numpy as np"
   ]
  },
  {
   "cell_type": "code",
   "execution_count": null,
   "metadata": {},
   "outputs": [],
   "source": [
    "# | export\n",
    "def grad_check(func, inputs, params: tuple = (), eps=1e-5, n=1000):\n",
    "    for p in reversed(params):\n",
    "        # Reshape to 1D so it's easier to sample random indices\n",
    "\n",
    "        data_view = p.data.reshape(-1)  # This does not make a copy\n",
    "        grad_view = p.grad.reshape(-1)\n",
    "\n",
    "        slow_grad = np.zeros_like(grad_view)\n",
    "        slow_grad_view = slow_grad.reshape(-1)\n",
    "\n",
    "        indices = np.random.choice(np.arange(grad_view.size), size=min(n, grad_view.size), replace=False)\n",
    "\n",
    "        indices = list(filter(lambda idx: abs(grad_view[idx]) > 1e-9, indices))  # XXX?\n",
    "        for idx in indices:\n",
    "            old_val = data_view[idx]\n",
    "\n",
    "            loss = func(inputs, params)\n",
    "\n",
    "            data_view[idx] = old_val + eps\n",
    "            loss_plus_h = func(inputs, params)\n",
    "\n",
    "            slow_grad_view[idx] = (loss_plus_h.data - loss.data) / eps\n",
    "\n",
    "            # print(f\"{idx}: loss_plus_h: {loss_plus_h.data}, loss: {loss.data}, diff: {loss_plus_h.data - loss.data}, grad: {grad_view[idx]}, slow_grad: {slow_grad_view[idx]}\")\n",
    "            data_view[idx] = old_val\n",
    "\n",
    "        max_grad_diff = np.max(np.abs((slow_grad_view[indices] - grad_view[indices]) / np.maximum(np.abs(slow_grad_view[indices]), np.abs(grad_view[indices]))))\n",
    "\n",
    "        print(f\"Max gradient difference for {p.name}: {max_grad_diff*100:.4f}%\")\n",
    "        if max_grad_diff > 1e-2:\n",
    "            raise ValueError(f\"Gradient check failed for {p.name}: Max error: {max_grad_diff*100:.4f}\")"
   ]
  },
  {
   "cell_type": "code",
   "execution_count": null,
   "metadata": {},
   "outputs": [],
   "source": [
    "from tidygrad.tensor import Tensor\n",
    "from tidygrad.functional import BCE_loss\n",
    "from lovely_numpy import Lo"
   ]
  },
  {
   "cell_type": "code",
   "execution_count": null,
   "metadata": {},
   "outputs": [
    {
     "data": {
      "text/plain": [
       "array[32, 10] n=320 (2.5Kb) x∈[-7.627, 7.782] μ=-0.279 σ=2.947"
      ]
     },
     "execution_count": null,
     "metadata": {},
     "output_type": "execute_result"
    }
   ],
   "source": [
    "Lo((np.random.randn(32, 28 * 28) @ (np.random.randn(28 * 28, 100) * 0.1) + np.random.randn(100)) @ (np.random.randn(100, 10) * 0.1))"
   ]
  },
  {
   "cell_type": "code",
   "execution_count": null,
   "metadata": {},
   "outputs": [
    {
     "name": "stdout",
     "output_type": "stream",
     "text": [
      "Max gradient difference for w2: 0.7700%\n",
      "Max gradient difference for b1: 0.0019%\n",
      "Max gradient difference for w1: 0.3036%\n"
     ]
    }
   ],
   "source": [
    "x = Tensor(np.random.randn(32, 28 * 28), \"X\")\n",
    "# Create a 1-hot encoded tensor with 1 random 1\n",
    "y = np.zeros((32, 10))\n",
    "y[np.arange(32), np.random.choice(10, 32)] = 1\n",
    "y = Tensor(y, \"y\")\n",
    "\n",
    "w1 = Tensor(np.random.randn(28 * 28, 100) * 0.1, \"w1\")\n",
    "b1 = Tensor(np.random.randn(100), \"b1\")\n",
    "w2 = Tensor(np.random.randn(100, 10) * 0.1, \"w2\")\n",
    "\n",
    "def NN(inputs, params: tuple, debug=list()):\n",
    "    x, y = inputs\n",
    "    w1, b1, w2 = params\n",
    "    z1 = x.mmul(w1, \"tmp\").add(b1, \"z1\")\n",
    "    a1 = relu(z1)\n",
    "    z2 = a1.mmul(w2)\n",
    "\n",
    "    loss = -BCE_loss(z2, y).sum(\"loss\")\n",
    "\n",
    "    debug.append((z1, a1, z2, loss))\n",
    "\n",
    "    return loss\n",
    "\n",
    "debug = []\n",
    "loss = NN(inputs=(x, y), params=(w1, b1, w2), debug=debug)\n",
    "\n",
    "loss.backward()\n",
    "\n",
    "grad_check(NN, (x, y), (w1, b1, w2))"
   ]
  }
 ],
 "metadata": {
  "kernelspec": {
   "display_name": "python3",
   "language": "python",
   "name": "python3"
  }
 },
 "nbformat": 4,
 "nbformat_minor": 2
}
