{
 "cells": [
  {
   "cell_type": "code",
   "execution_count": null,
   "metadata": {},
   "outputs": [],
   "source": [
    "# | hide\n",
    "import nbdev\n",
    "from nbdev.showdoc import *\n",
    "\n",
    "nbdev.nbdev_export()"
   ]
  },
  {
   "attachments": {},
   "cell_type": "markdown",
   "metadata": {},
   "source": [
    "### Tidy Utils\n"
   ]
  },
  {
   "cell_type": "code",
   "execution_count": null,
   "metadata": {},
   "outputs": [],
   "source": [
    "# | default_exp utils.grad_check"
   ]
  },
  {
   "cell_type": "code",
   "execution_count": null,
   "metadata": {},
   "outputs": [],
   "source": [
    "# | export\n",
    "from tidygrad.tensor import Tensor\n",
    "from tidygrad.functional import relu\n",
    "import numpy as np"
   ]
  },
  {
   "cell_type": "code",
   "execution_count": null,
   "metadata": {},
   "outputs": [],
   "source": [
    "# | export\n",
    "\n",
    "\n",
    "def grad_check(func, inputs, params: tuple = (), eps=1e-5, n=1000):\n",
    "    for p in reversed(params):\n",
    "        # Reshape to 1D so it's easier to sample random indices\n",
    "\n",
    "        data_view = p.data.reshape(-1) # This does not make a copy\n",
    "        grad_view = p.grad.reshape(-1)\n",
    "\n",
    "        slow_grad = np.zeros_like(grad_view)\n",
    "        slow_grad_view = slow_grad.reshape(-1)\n",
    "\n",
    "        indices = np.random.choice(\n",
    "            np.arange(grad_view.size), size=min(n, grad_view.size), replace=False\n",
    "        )\n",
    "\n",
    "        indices = list(filter(lambda idx: abs(grad_view[idx]) > 1e-9, indices)) # XXX? \n",
    "        for idx in indices:\n",
    "            old_val = data_view[idx]\n",
    "\n",
    "            loss = func(inputs, params)\n",
    "\n",
    "            data_view[idx] = old_val + eps\n",
    "            loss_plus_h = func(inputs, params)\n",
    "\n",
    "            slow_grad_view[idx] = (loss_plus_h.data - loss.data) / eps\n",
    "            data_view[idx] = old_val\n",
    "\n",
    "        max_grad_diff = np.max(\n",
    "            np.abs(\n",
    "                (slow_grad_view[indices] - grad_view[indices])\n",
    "                / np.maximum(slow_grad_view[indices], grad_view[indices])\n",
    "            )\n",
    "        )\n",
    "\n",
    "        print(f\"Max gradient difference for {p.name}: {max_grad_diff*100:.4f}%\")\n",
    "        if max_grad_diff > 1e-2:\n",
    "            raise ValueError(\n",
    "                f\"Gradient check failed for {p.name}: Max error: {max_grad_diff*100:.4f}\"\n",
    "            )"
   ]
  },
  {
   "cell_type": "code",
   "execution_count": null,
   "metadata": {},
   "outputs": [],
   "source": [
    "from tidygrad.tensor import Tensor\n",
    "from tidygrad.functional import BCE_loss"
   ]
  },
  {
   "cell_type": "code",
   "execution_count": null,
   "metadata": {},
   "outputs": [
    {
     "data": {
      "text/plain": [
       "array[32, 10] n=320 (2.5Kb) x∈[-7.754, 8.539] μ=0.044 σ=2.786"
      ]
     },
     "execution_count": null,
     "metadata": {},
     "output_type": "execute_result"
    }
   ],
   "source": [
    "from lovely_numpy import Lo\n",
    "\n",
    "Lo(\n",
    "    (np.random.randn(32, 28 * 28) @ (np.random.randn(28 * 28, 100)*0.1) + np.random.randn(100)) @ (np.random.randn(100, 10)*0.1)\n",
    "   ) "
   ]
  },
  {
   "cell_type": "code",
   "execution_count": null,
   "metadata": {},
   "outputs": [
    {
     "name": "stdout",
     "output_type": "stream",
     "text": [
      "Max gradient difference for w2: 0.8514%\n",
      "Max gradient difference for b1: 0.0366%\n",
      "Max gradient difference for w1: 0.0577%\n"
     ]
    }
   ],
   "source": [
    "x = Tensor(np.random.randn(32, 28 * 28), \"X\")\n",
    "# Create a 1-hot encoded tensor with 1 random 1\n",
    "y = np.zeros((32, 10))\n",
    "y[np.arange(32), np.random.choice(10, 32)] = 1\n",
    "y = Tensor(y, \"y\")\n",
    "\n",
    "w1 = Tensor(np.random.randn(28 * 28, 100)*0.1, \"w1\")\n",
    "b1 = Tensor(np.random.randn(100), \"b1\")\n",
    "w2 = Tensor(np.random.randn(100, 10)*0.1, \"w2\")\n",
    "\n",
    "\n",
    "def NN(inputs, params: tuple, debug=list()):\n",
    "    x, y = inputs\n",
    "    w1, b1, w2 = params\n",
    "    z1 = x.mmul(w1, \"tmp\").add(b1, \"z1\")\n",
    "    a1 = relu(z1)\n",
    "\n",
    "    z2 = a1.mmul(w2)\n",
    "\n",
    "\n",
    "    loss = -BCE_loss(z2, y).sum(\"loss\")\n",
    "\n",
    "\n",
    "    # diff = z2.sub(y, \"diff\")\n",
    "    # l = diff.mul(diff, \"l\")\n",
    "    # loss = l.sum(\"loss\")\n",
    "\n",
    "    debug.append((z1, a1, z2, loss))\n",
    "\n",
    "    return loss\n",
    "\n",
    "\n",
    "debug = []\n",
    "loss = NN(inputs=(x, y), params=(w1, b1, w2), debug=debug)\n",
    "\n",
    "loss.backward()\n",
    "\n",
    "grad_check(NN, (x, y), (w1, b1, w2))"
   ]
  }
 ],
 "metadata": {
  "kernelspec": {
   "display_name": "python3",
   "language": "python",
   "name": "python3"
  }
 },
 "nbformat": 4,
 "nbformat_minor": 2
}
