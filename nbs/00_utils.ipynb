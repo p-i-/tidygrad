{
 "cells": [
  {
   "cell_type": "code",
   "execution_count": null,
   "metadata": {},
   "outputs": [],
   "source": [
    "# | hide\n",
    "import nbdev\n",
    "from nbdev.showdoc import *\n",
    "\n",
    "nbdev.nbdev_export()"
   ]
  },
  {
   "attachments": {},
   "cell_type": "markdown",
   "metadata": {},
   "source": [
    "# Tidy Utils\n"
   ]
  },
  {
   "cell_type": "code",
   "execution_count": null,
   "metadata": {},
   "outputs": [],
   "source": [
    "# | default_exp utils"
   ]
  },
  {
   "cell_type": "code",
   "execution_count": null,
   "metadata": {},
   "outputs": [],
   "source": [
    "# | export\n",
    "from tidygrad.tensor import Tensor\n",
    "import numpy as np"
   ]
  },
  {
   "cell_type": "code",
   "execution_count": null,
   "metadata": {},
   "outputs": [],
   "source": [
    "# | export\n",
    "\n",
    "\n",
    "def grad_check(nn, x, y, params: tuple, eps=1e-7):\n",
    "    for p in reversed(params):\n",
    "        # Reshape to 1D so it's easier to sample random indices\n",
    "\n",
    "        data_view = p.data.reshape(-1)\n",
    "        grad_view = p.grad.reshape(-1)\n",
    "\n",
    "        slow_grad_view = np.zeros_like(p.grad).reshape(-1)\n",
    "\n",
    "        indices = np.random.choice(np.arange(len(grad_view)), size=1000)\n",
    "        for idx in indices:\n",
    "            loss = nn(x, y, params)\n",
    "\n",
    "            old_val = data_view[idx]\n",
    "            data_view[idx] = old_val + eps\n",
    "\n",
    "            loss_plus_h = nn(x, y, params)\n",
    "\n",
    "            slow_grad_view[idx] = (loss_plus_h.data - loss.data) / eps\n",
    "            data_view[idx] = old_val\n",
    "        max_grad_diff = np.max(\n",
    "            np.abs(slow_grad_view[indices] - grad_view[indices])\n",
    "           )\n",
    "        \n",
    "        if max_grad_diff > 1e-4:\n",
    "            raise ValueError(\n",
    "                f\"Gradient check failed for {p.name}: Max error: {max_grad_diff}\"\n",
    "            )"
   ]
  },
  {
   "cell_type": "code",
   "execution_count": null,
   "metadata": {},
   "outputs": [],
   "source": [
    "from tidygrad.tensor import Tensor\n",
    "\n",
    "x = Tensor(np.random.randn(32, 28 * 28), \"X\")\n",
    "# Create a 1-hot encoded tensor with 1 random 1\n",
    "y = np.zeros((32, 10))\n",
    "y[np.arange(32), np.random.choice(10, 32)] = 1\n",
    "y = Tensor(y, \"y\")\n",
    "\n",
    "w1 = Tensor(np.random.randn(28 * 28, 100), \"w1\")\n",
    "b1 = Tensor(np.random.randn(100), \"b1\")\n",
    "w2 = Tensor(np.random.randn(100, 10), \"w2\")\n",
    "\n",
    "\n",
    "def NN(x, y, params: tuple, debug=list()):\n",
    "    w1, b1, w2 = params\n",
    "    z1 = x.mmul(w1, \"tmp\").add(b1, \"z1\")\n",
    "    a1 = z1.sigmoid()\n",
    "\n",
    "    z2 = a1.mmul(w2)\n",
    "\n",
    "    diff = z2.sub(y, \"diff\")\n",
    "    l = diff.mul(diff, \"l\")\n",
    "    loss = l.sum(\"loss\")\n",
    "\n",
    "    debug.append((z1, a1, z2, diff, l, loss))\n",
    "\n",
    "    return loss\n",
    "\n",
    "\n",
    "debug = []\n",
    "loss = NN(x, y, params=(w1, b1, w2), debug=debug)\n",
    "\n",
    "loss.backward()\n",
    "\n",
    "grad_check(NN, x, y, (w1, b1, w2))"
   ]
  }
 ],
 "metadata": {
  "kernelspec": {
   "display_name": "python3",
   "language": "python",
   "name": "python3"
  }
 },
 "nbformat": 4,
 "nbformat_minor": 2
}
