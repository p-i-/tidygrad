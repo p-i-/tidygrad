{
 "cells": [
  {
   "cell_type": "code",
   "execution_count": null,
   "metadata": {},
   "outputs": [],
   "source": [
    "# | hide\n",
    "import nbdev\n",
    "from nbdev.showdoc import *\n",
    "nbdev.nbdev_export()"
   ]
  },
  {
   "attachments": {},
   "cell_type": "markdown",
   "metadata": {},
   "source": [
    "# Tidy Utils"
   ]
  },
  {
   "cell_type": "code",
   "execution_count": null,
   "metadata": {},
   "outputs": [],
   "source": [
    "# | default_exp utils"
   ]
  },
  {
   "cell_type": "code",
   "execution_count": null,
   "metadata": {},
   "outputs": [],
   "source": [
    "#| export\n",
    "from tidygrad.tensor import Tensor\n",
    "import numpy as np"
   ]
  },
  {
   "cell_type": "code",
   "execution_count": null,
   "metadata": {},
   "outputs": [],
   "source": [
    "#| export\n",
    "\n",
    "def grad_check(parameters: tuple, nn, eps=10e-4):\n",
    "    for p in reversed(parameters):\n",
    "        slow_grad = np.zeros_like(p.grad)\n",
    "        for idx, _ in np.ndenumerate(p.data):\n",
    "            loss = nn(*parameters)\n",
    "\n",
    "            old_val = p.data[idx]\n",
    "            p.data[idx] = old_val + eps\n",
    "\n",
    "            loss_plus_h = nn(*parameters)\n",
    "            slow_grad[idx] = (loss_plus_h.data - loss.data) / eps\n",
    "\n",
    "        if not np.allclose(slow_grad, p.grad, atol=1e-2):\n",
    "            raise ValueError(\n",
    "                f\"Gradient check failed for {p.name}:\\nSlow grad:\\n{slow_grad}\\nGrad:\\n{p.grad}\"\n",
    "            )\n"
   ]
  }
 ],
 "metadata": {
  "kernelspec": {
   "display_name": "python3",
   "language": "python",
   "name": "python3"
  }
 },
 "nbformat": 4,
 "nbformat_minor": 2
}
