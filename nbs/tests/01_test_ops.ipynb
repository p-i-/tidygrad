{
 "cells": [
  {
   "cell_type": "code",
   "execution_count": null,
   "metadata": {},
   "outputs": [],
   "source": [
    "import numpy as np\n",
    "from tidygrad.tensor import Tensor\n",
    "from tidygrad.utils.grad_check import grad_check"
   ]
  },
  {
   "cell_type": "code",
   "execution_count": null,
   "metadata": {},
   "outputs": [],
   "source": [
    "def run_test_binary_elementwise(func, shape1, shape2=None, pos_only=False):\n",
    "    \"\"\"Test a binary elementwise function, like add, mul, etc\"\"\"\n",
    "    shape2 = shape1 if shape2 is None else shape2\n",
    "    if pos_only:\n",
    "        a = Tensor(np.abs(np.random.randn(*shape1)) + 1e-8, name=\"a\")\n",
    "        b = Tensor(np.abs(np.random.randn(*shape2)) + 1e-8, name=\"b\")\n",
    "    else:\n",
    "        a = Tensor(np.random.randn(*shape1), name=\"a\")\n",
    "        b = Tensor(np.random.randn(*shape2), name=\"b\")\n",
    "\n",
    "    t = func(inputs=None, params=(a, b))\n",
    "    t.backward()\n",
    "    grad_check(func=func, inputs=None, params=(a, b))"
   ]
  },
  {
   "cell_type": "code",
   "execution_count": null,
   "metadata": {},
   "outputs": [],
   "source": [
    "def run_test_unary_elementwise(func, shape, pos_only=False):\n",
    "    \"\"\"Test a unary elementwise function, like exp, log, etc\"\"\"\n",
    "    if pos_only:\n",
    "        # Mostly for log(a) - it's positive only and is instable too close to zero.\n",
    "        a = Tensor(np.abs(np.random.randn(*shape)) + 1e-3, name=\"a\")\n",
    "    else:\n",
    "        a = Tensor(np.random.randn(*shape), name=\"a\")\n",
    "\n",
    "    t = func(inputs=None, params=(a,))\n",
    "    t.backward()\n",
    "    grad_check(func=func, inputs=None, params=(a,))"
   ]
  },
  {
   "attachments": {},
   "cell_type": "markdown",
   "metadata": {},
   "source": [
    "### Binary elementwise ops\n"
   ]
  },
  {
   "cell_type": "code",
   "execution_count": null,
   "metadata": {},
   "outputs": [
    {
     "name": "stdout",
     "output_type": "stream",
     "text": [
      "Max gradient difference for b: 0.0000%\n",
      "Max gradient difference for a: 0.0000%\n"
     ]
    }
   ],
   "source": [
    "def add_func(inputs, params: tuple = ()):\n",
    "    a, b = params\n",
    "    loss = a.add(b, \"t\").sum(\"loss\")\n",
    "    return loss\n",
    "\n",
    "\n",
    "run_test_binary_elementwise(add_func, (100, 100))"
   ]
  },
  {
   "cell_type": "code",
   "execution_count": null,
   "metadata": {},
   "outputs": [
    {
     "name": "stdout",
     "output_type": "stream",
     "text": [
      "Max gradient difference for b: 0.0000%\n",
      "Max gradient difference for a: 0.0000%\n"
     ]
    }
   ],
   "source": [
    "def sub_func(inputs, params: tuple = ()):\n",
    "    a, b = params\n",
    "    loss = a.sub(b, \"t\").sum(\"loss\")\n",
    "    return loss\n",
    "\n",
    "\n",
    "run_test_binary_elementwise(sub_func, (100, 100))"
   ]
  },
  {
   "cell_type": "code",
   "execution_count": null,
   "metadata": {},
   "outputs": [
    {
     "name": "stdout",
     "output_type": "stream",
     "text": [
      "Max gradient difference for b: 0.0000%\n",
      "Max gradient difference for a: 0.0000%\n"
     ]
    }
   ],
   "source": [
    "def mul_func(inputs, params: tuple = ()):\n",
    "    a, b = params\n",
    "    loss = a.mul(b, \"t\").sum(\"loss\")\n",
    "    return loss\n",
    "\n",
    "\n",
    "run_test_binary_elementwise(mul_func, (100, 100))"
   ]
  },
  {
   "attachments": {},
   "cell_type": "markdown",
   "metadata": {},
   "source": [
    "### Unary elementwise functions\n"
   ]
  },
  {
   "cell_type": "code",
   "execution_count": null,
   "metadata": {},
   "outputs": [
    {
     "name": "stdout",
     "output_type": "stream",
     "text": [
      "Max gradient difference for a: 0.2095%\n"
     ]
    }
   ],
   "source": [
    "def log_func(inputs, params: tuple = ()):\n",
    "    (a,) = params\n",
    "\n",
    "    loss = a.log(\"t\").sum(\"loss\")\n",
    "    return loss\n",
    "\n",
    "\n",
    "run_test_unary_elementwise(log_func, (100, 100), pos_only=True)"
   ]
  },
  {
   "cell_type": "code",
   "execution_count": null,
   "metadata": {},
   "outputs": [
    {
     "name": "stdout",
     "output_type": "stream",
     "text": [
      "Max gradient difference for a: 0.0006%\n"
     ]
    }
   ],
   "source": [
    "def sigmoid_text(inputs, params: tuple = ()):\n",
    "    (a,) = params\n",
    "    t = a.sigmoid(\"t\")\n",
    "    return t.sum(\"loss\")\n",
    "\n",
    "\n",
    "run_test_unary_elementwise(sigmoid_text, (100, 100))"
   ]
  },
  {
   "cell_type": "code",
   "execution_count": null,
   "metadata": {},
   "outputs": [
    {
     "name": "stdout",
     "output_type": "stream",
     "text": [
      "Max gradient difference for a: 0.0000%\n"
     ]
    }
   ],
   "source": [
    "def relu_func(inputs, params: tuple = ()):\n",
    "    (a,) = params\n",
    "    t = a.relu(\"t\")\n",
    "    return t.sum(\"loss\")\n",
    "\n",
    "\n",
    "run_test_unary_elementwise(relu_func, (100, 100))"
   ]
  },
  {
   "cell_type": "code",
   "execution_count": null,
   "metadata": {},
   "outputs": [
    {
     "name": "stdout",
     "output_type": "stream",
     "text": [
      "Max gradient difference for b: 0.0000%\n",
      "Max gradient difference for a: 0.0000%\n"
     ]
    }
   ],
   "source": [
    "def matmul_func(inputs, params: tuple[Tensor] = ()):\n",
    "    a, b = params\n",
    "    t = a.mmul(b, \"t\")\n",
    "    return t.sum(\"loss\")\n",
    "\n",
    "\n",
    "def run_test_matmul(shape1, shape2):\n",
    "    a = Tensor(np.random.randn(*shape1), name=\"a\")\n",
    "    b = Tensor(np.random.randn(*shape2), name=\"b\")\n",
    "\n",
    "    t = matmul_func(inputs=None, params=(a, b))\n",
    "    t.backward()\n",
    "\n",
    "    grad_check(func=matmul_func, inputs=None, params=(a, b))\n",
    "\n",
    "\n",
    "run_test_matmul((10, 100), (100, 50))"
   ]
  },
  {
   "attachments": {},
   "cell_type": "markdown",
   "metadata": {},
   "source": [
    "### Broadcasting\n"
   ]
  },
  {
   "cell_type": "code",
   "execution_count": null,
   "metadata": {},
   "outputs": [
    {
     "name": "stdout",
     "output_type": "stream",
     "text": [
      "Max gradient difference for b: 0.0000%\n",
      "Max gradient difference for a: 0.0000%\n"
     ]
    }
   ],
   "source": [
    "run_test_binary_elementwise(add_func, (2, 10, 1), (10, 100))"
   ]
  },
  {
   "cell_type": "code",
   "execution_count": null,
   "metadata": {},
   "outputs": [
    {
     "name": "stdout",
     "output_type": "stream",
     "text": [
      "Max gradient difference for b: 0.0000%\n",
      "Max gradient difference for a: 0.0000%\n"
     ]
    }
   ],
   "source": [
    "run_test_matmul((2, 10, 100), (100, 10))"
   ]
  }
 ],
 "metadata": {
  "kernelspec": {
   "display_name": "python3",
   "language": "python",
   "name": "python3"
  }
 },
 "nbformat": 4,
 "nbformat_minor": 2
}
