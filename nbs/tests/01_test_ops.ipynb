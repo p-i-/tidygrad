{
 "cells": [
  {
   "cell_type": "code",
   "execution_count": null,
   "metadata": {},
   "outputs": [],
   "source": [
    "import numpy as np\n",
    "from tidygrad.tensor import Tensor\n",
    "from tidygrad.utils.grad_check import grad_check"
   ]
  },
  {
   "cell_type": "code",
   "execution_count": null,
   "metadata": {},
   "outputs": [],
   "source": [
    "def run_test_binary_elementwise(func, shape1, shape2=None, pos_only=False):\n",
    "    \"\"\"Test a binary elementwise function, like add, mul, etc\"\"\"\n",
    "    shape2 = shape1 if shape2 is None else shape2\n",
    "    if pos_only:\n",
    "        a = Tensor(np.abs(np.random.randn(*shape1)) + 1e-8, name=\"a\")\n",
    "        b = Tensor(np.abs(np.random.randn(*shape2)) + 1e-8, name=\"b\")\n",
    "    else:\n",
    "        a = Tensor(np.random.randn(*shape1), name=\"a\")\n",
    "        b = Tensor(np.random.randn(*shape2), name=\"b\")\n",
    "\n",
    "    t = func(inputs=None, params=(a, b))\n",
    "    t.backward()\n",
    "    grad_check(func=func, inputs=None, params=(a, b))"
   ]
  },
  {
   "cell_type": "code",
   "execution_count": null,
   "metadata": {},
   "outputs": [],
   "source": [
    "def run_test_unary_elementwise(func, shape, pos_only=False):\n",
    "    \"\"\"Test a unary elementwise function, like exp, log, etc\"\"\"\n",
    "    if pos_only:\n",
    "        # Mostly for log(a) - it's positive only and is instable too close to zero.\n",
    "        a = Tensor(np.abs(np.random.randn(*shape)) + 1e-3, name=\"a\")\n",
    "    else:\n",
    "        a = Tensor(np.random.randn(*shape), name=\"a\")\n",
    "\n",
    "    t = func(inputs=None, params=(a, ))\n",
    "    t.backward()\n",
    "    grad_check(func=func, inputs=None, params=(a, ))"
   ]
  },
  {
   "attachments": {},
   "cell_type": "markdown",
   "metadata": {},
   "source": [
    "### Binary elementwise ops\n"
   ]
  },
  {
   "cell_type": "code",
   "execution_count": null,
   "metadata": {},
   "outputs": [
    {
     "name": "stdout",
     "output_type": "stream",
     "text": [
      "Max gradient difference for b: 0.0000%\n",
      "Max gradient difference for a: 0.0000%\n"
     ]
    }
   ],
   "source": [
    "def add_func(inputs, params: tuple = ()):\n",
    "    a, b = params\n",
    "    loss = a.add(b, \"t\").sum(\"loss\")\n",
    "    return loss\n",
    "\n",
    "run_test_binary_elementwise(add_func, (100, 100))"
   ]
  },
  {
   "cell_type": "code",
   "execution_count": null,
   "metadata": {},
   "outputs": [
    {
     "name": "stdout",
     "output_type": "stream",
     "text": [
      "Max gradient difference for b: 0.0000%\n",
      "Max gradient difference for a: 0.0000%\n"
     ]
    }
   ],
   "source": [
    "def sub_func(inputs, params: tuple = ()):\n",
    "    a, b = params\n",
    "    loss = a.sub(b, \"t\").sum(\"loss\")\n",
    "    return loss\n",
    "\n",
    "run_test_binary_elementwise(sub_func, (100, 100))"
   ]
  },
  {
   "cell_type": "code",
   "execution_count": null,
   "metadata": {},
   "outputs": [
    {
     "name": "stdout",
     "output_type": "stream",
     "text": [
      "Max gradient difference for b: 0.0002%\n",
      "Max gradient difference for a: 0.0006%\n"
     ]
    }
   ],
   "source": [
    "def mul_func(inputs, params: tuple = ()):\n",
    "    a, b = params\n",
    "    loss = a.mul(b, \"t\").sum(\"loss\")\n",
    "    return loss\n",
    "\n",
    "run_test_binary_elementwise(mul_func, (100, 100))"
   ]
  },
  {
   "attachments": {},
   "cell_type": "markdown",
   "metadata": {},
   "source": [
    "### Unary elementwise functions\n"
   ]
  },
  {
   "cell_type": "code",
   "execution_count": null,
   "metadata": {},
   "outputs": [
    {
     "name": "stdout",
     "output_type": "stream",
     "text": [
      "Max gradient difference for a: 0.2050%\n"
     ]
    }
   ],
   "source": [
    "def log_func(inputs, params: tuple = ()):\n",
    "    (a, ) = params\n",
    "\n",
    "    loss = a.log(\"t\").sum(\"loss\")\n",
    "    return loss\n",
    "\n",
    "run_test_unary_elementwise(log_func, (100, 100), pos_only=True)"
   ]
  },
  {
   "cell_type": "code",
   "execution_count": null,
   "metadata": {},
   "outputs": [
    {
     "name": "stdout",
     "output_type": "stream",
     "text": [
      "Max gradient difference for a: 0.0007%\n"
     ]
    }
   ],
   "source": [
    "def exp_func(inputs, params: tuple = ()):\n",
    "    (a, ) = params\n",
    "\n",
    "    loss = a.exp(\"t\").sum(\"loss\")\n",
    "    return loss\n",
    "\n",
    "run_test_unary_elementwise(exp_func, (100, 100))"
   ]
  },
  {
   "cell_type": "code",
   "execution_count": null,
   "metadata": {},
   "outputs": [],
   "source": [
    "from tidygrad.functional import relu, sigmoid, softmax"
   ]
  },
  {
   "cell_type": "code",
   "execution_count": null,
   "metadata": {},
   "outputs": [
    {
     "name": "stdout",
     "output_type": "stream",
     "text": [
      "Max gradient difference for a: 0.0005%\n"
     ]
    }
   ],
   "source": [
    "def sigmoid_text(inputs, params: tuple = ()):\n",
    "    (a, ) = params\n",
    "    t = sigmoid(a)\n",
    "    return t.sum(\"loss\")\n",
    "\n",
    "run_test_unary_elementwise(sigmoid_text, (100, 100))"
   ]
  },
  {
   "cell_type": "code",
   "execution_count": null,
   "metadata": {},
   "outputs": [
    {
     "name": "stdout",
     "output_type": "stream",
     "text": [
      "Max gradient difference for a: 0.0000%\n"
     ]
    }
   ],
   "source": [
    "def relu_func(inputs, params: tuple = ()):\n",
    "    (a, ) = params\n",
    "    t = relu(a, \"t\")\n",
    "    return t.sum(\"loss\")\n",
    "\n",
    "run_test_unary_elementwise(relu_func, (100, 100))"
   ]
  },
  {
   "cell_type": "code",
   "execution_count": null,
   "metadata": {},
   "outputs": [
    {
     "name": "stdout",
     "output_type": "stream",
     "text": [
      "Max gradient difference for a: 0.0005%\n"
     ]
    }
   ],
   "source": [
    "def softmax_func(inputs, params: tuple = ()):\n",
    "    a, = params\n",
    "    n_batch, n_classes = a.shape\n",
    "    y = np.zeros(a.shape)\n",
    "    np.random.seed(42)\n",
    "    y[np.arange(n_batch), np.random.randint(0, n_classes, n_batch)] = 1\n",
    "    y = Tensor(y, name=\"y\")\n",
    "    sm = softmax(a, \"t\")\n",
    "\n",
    "    cross_entropy = y * sm.log() + (1-y) * (1 - sm).log()\n",
    "    #\n",
    "    return cross_entropy.sum(\"loss\")\n",
    "\n",
    "run_test_unary_elementwise(softmax_func, (1, 5))"
   ]
  },
  {
   "cell_type": "code",
   "execution_count": null,
   "metadata": {},
   "outputs": [
    {
     "name": "stdout",
     "output_type": "stream",
     "text": [
      "Max gradient difference for b: 0.0000%\n",
      "Max gradient difference for a: 0.0000%\n"
     ]
    }
   ],
   "source": [
    "def matmul_func(inputs, params: tuple[Tensor] = ()):\n",
    "    a, b = params\n",
    "    t = a.mmul(b, \"t\")\n",
    "    return t.sum(\"loss\")\n",
    "\n",
    "def run_test_matmul(shape1, shape2):\n",
    "    a = Tensor(np.random.randn(*shape1), name=\"a\")\n",
    "    b = Tensor(np.random.randn(*shape2), name=\"b\")\n",
    "    t = matmul_func(inputs=None, params=(a, b))\n",
    "    t.backward()\n",
    "\n",
    "    grad_check(func=matmul_func, inputs=None, params=(a, b))\n",
    "\n",
    "run_test_matmul((10, 100), (100, 50))"
   ]
  },
  {
   "attachments": {},
   "cell_type": "markdown",
   "metadata": {},
   "source": [
    "### Broadcasting\n"
   ]
  },
  {
   "cell_type": "code",
   "execution_count": null,
   "metadata": {},
   "outputs": [
    {
     "name": "stdout",
     "output_type": "stream",
     "text": [
      "Max gradient difference for b: 0.0000%\n",
      "Max gradient difference for a: 0.0000%\n"
     ]
    }
   ],
   "source": [
    "run_test_binary_elementwise(add_func, (2, 10, 1), (10, 100))"
   ]
  },
  {
   "cell_type": "code",
   "execution_count": null,
   "metadata": {},
   "outputs": [
    {
     "name": "stdout",
     "output_type": "stream",
     "text": [
      "Max gradient difference for b: 0.0001%\n",
      "Max gradient difference for a: 0.0000%\n"
     ]
    }
   ],
   "source": [
    "run_test_matmul((2, 10, 100), (100, 10))"
   ]
  },
  {
   "attachments": {},
   "cell_type": "markdown",
   "metadata": {},
   "source": [
    "### Test loss functions\n"
   ]
  },
  {
   "cell_type": "code",
   "execution_count": null,
   "metadata": {},
   "outputs": [],
   "source": [
    "# def lt_func(inputs, params: tuple = ()):\n",
    "#     a, b = params\n",
    "#     loss = (a < b).sum(\"loss\")\n",
    "#     return loss\n",
    "\n",
    "# run_test_binary_elementwise(lt_func, (100, 100), (100, 100))\n",
    "\n",
    "# a = Tensor(np.random.randn(100, 100), name=\"a\")\n",
    "# b = Tensor(np.random.randn(100, 100), name=\"b\")\n",
    "\n",
    "# t = lt_func(inputs=None, params=(a, b))\n",
    "# t.backward()"
   ]
  },
  {
   "cell_type": "code",
   "execution_count": null,
   "metadata": {},
   "outputs": [],
   "source": [
    "from tidygrad.functional import BCE_loss"
   ]
  },
  {
   "cell_type": "code",
   "execution_count": null,
   "metadata": {},
   "outputs": [
    {
     "name": "stdout",
     "output_type": "stream",
     "text": [
      "Max gradient difference for x: 0.0028%\n"
     ]
    }
   ],
   "source": [
    "def bceloss_func(inputs, params: tuple = ()):\n",
    "    y = inputs[0]\n",
    "    x = params[0]\n",
    "\n",
    "    loss = BCE_loss(x, y).sum(\"loss\")\n",
    "    return loss\n",
    "\n",
    "x = Tensor(np.random.randn(100), name=\"x\")\n",
    "y = Tensor(np.random.randn(100), name=\"y\")\n",
    "\n",
    "t = bceloss_func(inputs=(y, ), params=(x, ))\n",
    "t.backward()\n",
    "\n",
    "grad_check(func=bceloss_func, inputs=(y, ), params=(x, ))"
   ]
  },
  {
   "attachments": {},
   "cell_type": "markdown",
   "metadata": {},
   "source": [
    "### Test Dropout\n"
   ]
  },
  {
   "cell_type": "code",
   "execution_count": null,
   "metadata": {},
   "outputs": [],
   "source": [
    "from tidygrad.functional import dropout"
   ]
  },
  {
   "cell_type": "code",
   "execution_count": null,
   "metadata": {},
   "outputs": [
    {
     "name": "stdout",
     "output_type": "stream",
     "text": [
      "Max gradient difference for p: 0.0000%\n"
     ]
    }
   ],
   "source": [
    "def dropout_func(inputs, params: tuple = ()):\n",
    "    p = params[0]\n",
    "\n",
    "    np.random.seed(1337)\n",
    "    t = dropout(p, 0.3, training=True)\n",
    "    return t.sum(\"loss\")\n",
    "\n",
    "p = Tensor(np.random.randn(100), name=\"p\")\n",
    "\n",
    "t = dropout_func(inputs=None, params=(p, ))\n",
    "t.backward()\n",
    "\n",
    "grad_check(func=dropout_func, inputs=None, params=(p, ))"
   ]
  },
  {
   "cell_type": "code",
   "execution_count": null,
   "metadata": {},
   "outputs": [],
   "source": [
    "### Test sum and mean"
   ]
  },
  {
   "cell_type": "code",
   "execution_count": null,
   "metadata": {},
   "outputs": [
    {
     "name": "stdout",
     "output_type": "stream",
     "text": [
      "Max gradient difference for a: 0.0000%\n"
     ]
    }
   ],
   "source": [
    "def sum_test(inputs, params: tuple = ()):\n",
    "    a = params[0]\n",
    "    t = a.sum(\"t\")\n",
    "    return t.sum(\"loss\")\n",
    "\n",
    "run_test_unary_elementwise(sum_test, (100, 100))"
   ]
  },
  {
   "cell_type": "code",
   "execution_count": null,
   "metadata": {},
   "outputs": [
    {
     "name": "stdout",
     "output_type": "stream",
     "text": [
      "Max gradient difference for a: 0.0000%\n"
     ]
    }
   ],
   "source": [
    "def mean_test(inputs, params: tuple = ()):\n",
    "    a = params[0]\n",
    "    t = a.mean(\"t\")\n",
    "    return t.sum(\"loss\")\n",
    "\n",
    "run_test_unary_elementwise(mean_test, (100, 100))"
   ]
  }
 ],
 "metadata": {
  "kernelspec": {
   "display_name": "python3",
   "language": "python",
   "name": "python3"
  }
 },
 "nbformat": 4,
 "nbformat_minor": 2
}
