{
 "cells": [
  {
   "cell_type": "code",
   "execution_count": null,
   "metadata": {},
   "outputs": [],
   "source": [
    "# | hide\n",
    "# | default_exp functional\n",
    "import nbdev\n",
    "from nbdev.showdoc import *\n",
    "\n",
    "nbdev.nbdev_export()"
   ]
  },
  {
   "attachments": {},
   "cell_type": "markdown",
   "metadata": {},
   "source": [
    "### Functional operations\n"
   ]
  },
  {
   "cell_type": "code",
   "execution_count": null,
   "metadata": {},
   "outputs": [],
   "source": [
    "# | exporti\n",
    "import numpy as np\n",
    "from tidygrad.tensor import Tensor, UnaryElementwiseOp, BinaryElementwiseOp, BaseOp, ExpLog"
   ]
  },
  {
   "cell_type": "code",
   "execution_count": null,
   "metadata": {},
   "outputs": [],
   "source": [
    "# | exporti\n",
    "class Sigmoid(UnaryElementwiseOp):\n",
    "    \"\"\"Take the sigmoid of a tensor\"\"\"\n",
    "    name_template = \"sigmoid({})\"\n",
    "\n",
    "    def __init__(self, a, name=None):\n",
    "        super().__init__(a, name=name)\n",
    "        self.out = Tensor(1 / (1 + np.exp(-self.args[0].data)), name=self.name, op=self)\n",
    "\n",
    "    def backward(self):\n",
    "        with np.errstate(under=\"ignore\"):  # Triggered by infinitesimally small 1-data\n",
    "            self.parents[0].grad += self.out.grad * self.out.data * (1 - self.out.data)"
   ]
  },
  {
   "cell_type": "code",
   "execution_count": null,
   "metadata": {},
   "outputs": [],
   "source": [
    "# | export\n",
    "def sigmoid(input, name=None):\n",
    "    return Sigmoid(input, name=name).out"
   ]
  },
  {
   "cell_type": "code",
   "execution_count": null,
   "metadata": {},
   "outputs": [],
   "source": [
    "#| export\n",
    "def softmax(input, name=None):\n",
    "    exp = input.exp()\n",
    "    return exp.div(exp.sum(axis=-1, keepdims=True), name=name)"
   ]
  },
  {
   "cell_type": "code",
   "execution_count": null,
   "metadata": {},
   "outputs": [],
   "source": [
    "# | exporti\n",
    "class Relu(UnaryElementwiseOp):\n",
    "    \"\"\"Take the sigmoid of a tensor\"\"\"\n",
    "\n",
    "    name_template = \"relu({})\"\n",
    "\n",
    "    def __init__(self, a, name=None):\n",
    "        super().__init__(a, name=name)\n",
    "        self.out = Tensor(np.maximum(0, self.args[0].data), name=self.name, op=self)\n",
    "\n",
    "    def backward(self):\n",
    "        self.parents[0].grad += self.out.grad * (self.out.data > 0)"
   ]
  },
  {
   "cell_type": "code",
   "execution_count": null,
   "metadata": {},
   "outputs": [],
   "source": [
    "# | export\n",
    "def relu(input, name=None):\n",
    "    return Relu(input, name=name).out"
   ]
  },
  {
   "cell_type": "code",
   "execution_count": null,
   "metadata": {},
   "outputs": [],
   "source": [
    "# | export\n",
    "def BCE_loss(logits: Tensor, target: Tensor, reduction=\"mean\"):\n",
    "    loss = logits - logits*target + ExpLog(-logits).out\n",
    "    if reduction == \"mean\": return loss.mean()\n",
    "    if reduction == \"sum\": return loss.sum()\n",
    "    assert 0, \"Invalid reduction\""
   ]
  },
  {
   "cell_type": "code",
   "execution_count": null,
   "metadata": {},
   "outputs": [],
   "source": [
    "#| export\n",
    "\n",
    "def CrossEntropy_loss(logits: Tensor, target: Tensor, reduction=\"mean\"):\n",
    "    if not isinstance(target, Tensor): target = Tensor(target)\n",
    "    sm = softmax(logits)\n",
    "    loss = -target * sm.log()\n",
    "    if reduction == \"mean\": return loss.mean()\n",
    "    if reduction == \"sum\": return loss.sum()\n",
    "    assert 0, \"Invalid reduction\""
   ]
  },
  {
   "cell_type": "code",
   "execution_count": null,
   "metadata": {},
   "outputs": [],
   "source": [
    "# | exporti\n",
    "class Dropout(UnaryElementwiseOp):\n",
    "    \"\"\"Apply Dropout to a tensor\"\"\"\n",
    "\n",
    "    name_template = \"dropout({})\"\n",
    "\n",
    "    def __init__(self, a, p_drop=0.1, training=True, name=None):\n",
    "        super().__init__(a, name=name)\n",
    "        assert 0 < p_drop < 1, f\"p_drop must in (0, 1), got {p_drop}\"\n",
    "        self.p_drop = p_drop\n",
    "        self.training = training\n",
    "        if training:\n",
    "            # Note: We scale up the outputs during training rather than scaling down during inference.\n",
    "            scale_factor = 1 / (1-p_drop)\n",
    "            self.mask = np.random.binomial(scale_factor, 1 - p_drop, size=self.args[0].data.shape)\n",
    "            self.out = Tensor(self.args[0].data * self.mask, name=self.name, op=self)\n",
    "        else:\n",
    "            self.out = Tensor(self.args[0].data, name=self.name, op=self)\n",
    "\n",
    "    def backward(self):\n",
    "        self.parents[0].grad += self.out.grad * (self.mask if self.training else 1)"
   ]
  },
  {
   "cell_type": "code",
   "execution_count": null,
   "metadata": {},
   "outputs": [],
   "source": [
    "# | export\n",
    "def dropout(x, p=0.5, training=True):\n",
    "    if p == 0:\n",
    "        return x\n",
    "\n",
    "    return Dropout(x, p_drop=p, training=training).out"
   ]
  },
  {
   "cell_type": "code",
   "execution_count": null,
   "metadata": {},
   "outputs": [],
   "source": [
    "def np_pad(a: np.ndarray, pad:int):\n",
    "    pad = (((0, 0), ) * max(len(a.shape) - 2, 0)) + ((pad, pad), (pad, pad))\n",
    "    return np.pad(a, pad, mode=\"constant\")"
   ]
  },
  {
   "cell_type": "code",
   "execution_count": null,
   "metadata": {},
   "outputs": [],
   "source": [
    "#| export\n",
    "\n",
    "class Pad(UnaryElementwiseOp):\n",
    "    \"\"\"Pad a tensor\"\"\"\n",
    "    name_template = \"pad2d({})\"\n",
    "\n",
    "    def __init__(self, a, pad: int, name=None):\n",
    "        super().__init__(a, name=name)\n",
    "        assert len(self.args[0].shape) == 4, \"Only 4D tensors supported for now. And we pad xy\"\n",
    "        self.padding = pad\n",
    "        self.out = Tensor(np_pad(a.data, pad), name=self.name, op=self)\n",
    "\n",
    "\n",
    "    def backward(self):\n",
    "        self.parents[0].grad += self.out.grad[:, :, self.padding:-self.padding, self.padding:-self.padding]"
   ]
  },
  {
   "cell_type": "code",
   "execution_count": null,
   "metadata": {},
   "outputs": [],
   "source": [
    "from matplotlib import pyplot as plt"
   ]
  },
  {
   "cell_type": "code",
   "execution_count": null,
   "metadata": {},
   "outputs": [
    {
     "data": {
      "text/plain": [
       "<matplotlib.image.AxesImage>"
      ]
     },
     "execution_count": null,
     "metadata": {},
     "output_type": "execute_result"
    },
    {
     "data": {
      "image/png": "[encoded data removed]",
      "text/plain": [
       "<Figure size 640x480 with 1 Axes>"
      ]
     },
     "metadata": {},
     "output_type": "display_data"
    }
   ],
   "source": [
    "padded_input = Tensor(np.random.randn(1, 1, 4, 5), name=\"x\")\n",
    "bias = Pad(padded_input, 1).out\n",
    "\n",
    "plt.imshow(bias.data[0, 0, :, :])"
   ]
  },
  {
   "cell_type": "code",
   "execution_count": null,
   "metadata": {},
   "outputs": [],
   "source": [
    "def np_conv2d(a:np.ndarray, w:np.ndarray, b:np.ndarray):\n",
    "    batch, input_channels, input_height, input_width = a.shape\n",
    "    output_channels, _input_channels, kernel_height, kernel_width = w.shape\n",
    "\n",
    "    assert kernel_height % 2 == 1, \"Only odd kernel sizes are supported for\"\n",
    "    assert kernel_width % 2 == 1, \"Only odd kernel sizes are supported for\"\n",
    "\n",
    "    assert input_channels == _input_channels, f\"Input channels mismatch: {input_channels} != {_input_channels}\"\n",
    "    assert b.shape == (output_channels, ), f\"Invalid bias shape: {b.shape}\"\n",
    "\n",
    "    output_height = input_height - kernel_height + 1\n",
    "    output_width = input_width - kernel_width + 1\n",
    "\n",
    "    data = np.zeros((batch, output_channels, input_height - kernel_height + 1, input_width - kernel_width + 1), dtype=a.dtype)\n",
    "    for i in range(0, output_height):\n",
    "        for j in range(0, output_width):\n",
    "            p = a[:, :, i:i + kernel_height, j:j + kernel_width]\n",
    "            q = w\n",
    "            m = p*q + b\n",
    "            s = np.sum(m, axis=(-1, -2))\n",
    "            data[:, :, i, j] = s\n",
    "\n",
    "    return data\n",
    "\n",
    "def np_kernel_grad(padded_input:np.ndarray, kernel:np.ndarray, bias:np.ndarray, grad:np.ndarray):\n",
    "    batch, input_channels, input_height, input_width = padded_input.shape\n",
    "    output_channels, _input_channels, kernel_height, kernel_width = kernel.shape\n",
    "\n",
    "    assert kernel_height % 2 == 1, \"Only odd kernel sizes are supported for\"\n",
    "    assert kernel_width % 2 == 1, \"Only odd kernel sizes are supported for\"\n",
    "\n",
    "    assert input_channels == _input_channels, f\"Input channels mismatch: {input_channels} != {_input_channels}\"\n",
    "    assert bias.shape == (output_channels, ), f\"Invalid bias shape: {bias.shape}\"\n",
    "\n",
    "    output_height = input_height - kernel_height + 1\n",
    "    output_width = input_width - kernel_width + 1\n",
    "\n",
    "    # W      # [ output_channels, input_channels, kernel_height, kernel_width ]\n",
    "    # a      # [ batch, input_channels, input_height, input_width\n",
    "    # grad   # [ batch, output_channels, output_height, output_width ]\n",
    "\n",
    "    grad_w = np.zeros_like(kernel)\n",
    "    for i in range(0, output_height):\n",
    "        for j in range(0, output_width):\n",
    "\n",
    "            p = padded_input[:, :, i:i + kernel_height, j:j + kernel_width]\n",
    "            for c in range(0, output_channels):\n",
    "                q = grad[:, c, i, j]\n",
    "                q=q[:, None, None]\n",
    "\n",
    "                grad_w[c,:,:,:] += (p * q).sum(axis=0)\n",
    "\n",
    "    return grad_w"
   ]
  },
  {
   "cell_type": "code",
   "execution_count": null,
   "metadata": {},
   "outputs": [],
   "source": [
    "class Conv2D(BaseOp):\n",
    "    def __init__(self, input, kernel, bias, stride=1, padding=0, name=None):\n",
    "        super().__init__(input, kernel, bias, name=name)\n",
    "        self.stride = stride\n",
    "        assert stride == 1, \"Only stride=1 is supported for now\"\n",
    "        assert padding == 1, \"Only padding=1 is supported for now\"\n",
    "        self.padding = padding\n",
    "        self.parents = [*self.args]\n",
    "\n",
    "        if padding:\n",
    "            input_data_padded = np_pad(self.args[0].data, pad=padding)\n",
    "\n",
    "        data = np_conv2d(input_data_padded, kernel.data, bias.data)\n",
    "\n",
    "        self.out = Tensor(data, name=self.name, op=self)\n",
    "\n",
    "    def backward(self):\n",
    "        input, kernel, bias = self.args\n",
    "        grad = self.out.grad\n",
    "        padded_grad = np_pad(grad, 1)   # XXX\n",
    "        padded_input = np_pad(input.data, 1)\n",
    "        print(padded_grad)\n",
    "        t = np_conv2d(padded_grad, np.rot90(kernel.data, 2), np.zeros_like(bias.data))\n",
    "        input.grad += t\n",
    "        kernel.grad += np_kernel_grad(padded_input, kernel.data, bias.data, grad)"
   ]
  },
  {
   "cell_type": "code",
   "execution_count": null,
   "metadata": {},
   "outputs": [],
   "source": [
    "from tidygrad.utils.grad_check import grad_check"
   ]
  },
  {
   "cell_type": "code",
   "execution_count": null,
   "metadata": {},
   "outputs": [
    {
     "name": "stdout",
     "output_type": "stream",
     "text": [
      "[[[[0.   0.   0.   0.   0.   0.   0.   0.   0.   0.   0.   0.  ]\n",
      "   [0.   0.01 0.01 0.01 0.01 0.01 0.01 0.01 0.01 0.01 0.01 0.  ]\n",
      "   [0.   0.01 0.01 0.01 0.01 0.01 0.01 0.01 0.01 0.01 0.01 0.  ]\n",
      "   [0.   0.01 0.01 0.01 0.01 0.01 0.01 0.01 0.01 0.01 0.01 0.  ]\n",
      "   [0.   0.01 0.01 0.01 0.01 0.01 0.01 0.01 0.01 0.01 0.01 0.  ]\n",
      "   [0.   0.01 0.01 0.01 0.01 0.01 0.01 0.01 0.01 0.01 0.01 0.  ]\n",
      "   [0.   0.01 0.01 0.01 0.01 0.01 0.01 0.01 0.01 0.01 0.01 0.  ]\n",
      "   [0.   0.01 0.01 0.01 0.01 0.01 0.01 0.01 0.01 0.01 0.01 0.  ]\n",
      "   [0.   0.01 0.01 0.01 0.01 0.01 0.01 0.01 0.01 0.01 0.01 0.  ]\n",
      "   [0.   0.01 0.01 0.01 0.01 0.01 0.01 0.01 0.01 0.01 0.01 0.  ]\n",
      "   [0.   0.01 0.01 0.01 0.01 0.01 0.01 0.01 0.01 0.01 0.01 0.  ]\n",
      "   [0.   0.   0.   0.   0.   0.   0.   0.   0.   0.   0.   0.  ]]]]\n",
      "[[[[0.   0.   0.   0.   0.   0.   0.   0.   0.   0.   0.   0.  ]\n",
      "   [0.   0.01 0.01 0.01 0.01 0.01 0.01 0.01 0.01 0.01 0.01 0.  ]\n",
      "   [0.   0.01 0.01 0.01 0.01 0.01 0.01 0.01 0.01 0.01 0.01 0.  ]\n",
      "   [0.   0.01 0.01 0.01 0.01 0.01 0.01 0.01 0.01 0.01 0.01 0.  ]\n",
      "   [0.   0.01 0.01 0.01 0.01 0.01 0.01 0.01 0.01 0.01 0.01 0.  ]\n",
      "   [0.   0.01 0.01 0.01 0.01 0.01 0.01 0.01 0.01 0.01 0.01 0.  ]\n",
      "   [0.   0.01 0.01 0.01 0.01 0.01 0.01 0.01 0.01 0.01 0.01 0.  ]\n",
      "   [0.   0.01 0.01 0.01 0.01 0.01 0.01 0.01 0.01 0.01 0.01 0.  ]\n",
      "   [0.   0.01 0.01 0.01 0.01 0.01 0.01 0.01 0.01 0.01 0.01 0.  ]\n",
      "   [0.   0.01 0.01 0.01 0.01 0.01 0.01 0.01 0.01 0.01 0.01 0.  ]\n",
      "   [0.   0.01 0.01 0.01 0.01 0.01 0.01 0.01 0.01 0.01 0.01 0.  ]\n",
      "   [0.   0.   0.   0.   0.   0.   0.   0.   0.   0.   0.   0.  ]]]]\n"
     ]
    }
   ],
   "source": [
    "x = Tensor(np.eye(10, 10)[None, None], \"x\")\n",
    "kernel = np.array( [[1., 2, 1],\n",
    "                    [2, 4, 2],\n",
    "                    [1, 2, 1]]\n",
    "                ).reshape(1, 1, 3, 3)\n",
    "kernel = Tensor(kernel, \"w\")\n",
    "\n",
    "bias = Tensor(np.zeros((1, )), \"b\")\n",
    "\n",
    "conv = Conv2D(x, kernel, bias, padding=1).out\n",
    "loss = conv.mean()\n",
    "loss.backward()\n",
    "\n",
    "def func(inputs, params):\n",
    "    x = params[0]\n",
    "    kernel = params[1]\n",
    "    # kernel = np.array( [[1., 2, 1],\n",
    "    #                 [2, 4, 2],\n",
    "    #                 [1, 2, 1]]\n",
    "    #             ).reshape(1, 1, 3, 3)\n",
    "    bias = Tensor(np.zeros((1, )), \"b\")\n",
    "    return Conv2D(x, kernel, bias, padding=1).out.mean()\n",
    "\n",
    "func(None, (x, kernel)).backward()\n",
    "\n",
    "# grad_check(func, None, (x,kernel))"
   ]
  },
  {
   "cell_type": "code",
   "execution_count": null,
   "metadata": {},
   "outputs": [
    {
     "data": {
      "text/plain": [
       "array([[[[0.01, 0.01, 0.01, 0.01, 0.01, 0.01, 0.01, 0.01, 0.01, 0.01],\n",
       "         [0.01, 0.01, 0.01, 0.01, 0.01, 0.01, 0.01, 0.01, 0.01, 0.01],\n",
       "         [0.01, 0.01, 0.01, 0.01, 0.01, 0.01, 0.01, 0.01, 0.01, 0.01],\n",
       "         [0.01, 0.01, 0.01, 0.01, 0.01, 0.01, 0.01, 0.01, 0.01, 0.01],\n",
       "         [0.01, 0.01, 0.01, 0.01, 0.01, 0.01, 0.01, 0.01, 0.01, 0.01],\n",
       "         [0.01, 0.01, 0.01, 0.01, 0.01, 0.01, 0.01, 0.01, 0.01, 0.01],\n",
       "         [0.01, 0.01, 0.01, 0.01, 0.01, 0.01, 0.01, 0.01, 0.01, 0.01],\n",
       "         [0.01, 0.01, 0.01, 0.01, 0.01, 0.01, 0.01, 0.01, 0.01, 0.01],\n",
       "         [0.01, 0.01, 0.01, 0.01, 0.01, 0.01, 0.01, 0.01, 0.01, 0.01],\n",
       "         [0.01, 0.01, 0.01, 0.01, 0.01, 0.01, 0.01, 0.01, 0.01, 0.01]]]],\n",
       "      dtype=float32)"
      ]
     },
     "execution_count": null,
     "metadata": {},
     "output_type": "execute_result"
    }
   ],
   "source": [
    "conv.grad"
   ]
  },
  {
   "cell_type": "code",
   "execution_count": null,
   "metadata": {},
   "outputs": [
    {
     "data": {
      "text/plain": [
       "<matplotlib.image.AxesImage>"
      ]
     },
     "execution_count": null,
     "metadata": {},
     "output_type": "execute_result"
    },
    {
     "data": {
      "image/png": "[encoded data removed]",
      "text/plain": [
       "<Figure size 640x480 with 1 Axes>"
      ]
     },
     "metadata": {},
     "output_type": "display_data"
    }
   ],
   "source": [
    "plt.imshow(conv.data[0, 0, :, :])"
   ]
  },
  {
   "cell_type": "code",
   "execution_count": null,
   "metadata": {},
   "outputs": [],
   "source": [
    "from tidygrad.utils.datasets import MNIST\n"
   ]
  },
  {
   "cell_type": "code",
   "execution_count": null,
   "metadata": {},
   "outputs": [
    {
     "data": {
      "image/png": "[encoded data removed]",
      "text/plain": [
       "<Figure size 640x480 with 1 Axes>"
      ]
     },
     "metadata": {},
     "output_type": "display_data"
    },
    {
     "data": {
      "text/plain": [
       "<matplotlib.image.AxesImage>"
      ]
     },
     "execution_count": null,
     "metadata": {},
     "output_type": "execute_result"
    },
    {
     "data": {
      "image/png": "[encoded data removed]",
      "text/plain": [
       "<Figure size 640x480 with 1 Axes>"
      ]
     },
     "metadata": {},
     "output_type": "display_data"
    }
   ],
   "source": [
    "\n",
    "mnist = MNIST()\n",
    "\n",
    "x = Tensor(mnist[1][0][None][None], \"x\")\n",
    "plt.show(plt.imshow(x.data[0, 0]))\n",
    "\n",
    "conv = Conv2D(x, kernel, bias, padding=1).out\n",
    "conv = Conv2D(conv, kernel, bias, padding=1).out\n",
    "conv = Conv2D(conv, kernel, bias, padding=1).out\n",
    "plt.imshow(conv.data[0, 0, :, :])"
   ]
  }
 ],
 "metadata": {
  "kernelspec": {
   "display_name": "python3",
   "language": "python",
   "name": "python3"
  }
 },
 "nbformat": 4,
 "nbformat_minor": 2
}
