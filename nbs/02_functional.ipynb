{
 "cells": [
  {
   "cell_type": "code",
   "execution_count": null,
   "metadata": {},
   "outputs": [],
   "source": [
    "# | hide\n",
    "import nbdev\n",
    "from nbdev.showdoc import *\n",
    "\n",
    "nbdev.nbdev_export()"
   ]
  },
  {
   "attachments": {},
   "cell_type": "markdown",
   "metadata": {},
   "source": [
    "### Functional operations\n"
   ]
  },
  {
   "cell_type": "code",
   "execution_count": null,
   "metadata": {},
   "outputs": [],
   "source": [
    "# | default_exp functional"
   ]
  },
  {
   "cell_type": "code",
   "execution_count": null,
   "metadata": {},
   "outputs": [],
   "source": [
    "# | export\n",
    "from tidygrad.tensor import Tensor, BaseOp, UnaryElementwiseOp, BinaryElementwiseOp\n",
    "import numpy as np"
   ]
  },
  {
   "cell_type": "code",
   "execution_count": null,
   "metadata": {},
   "outputs": [],
   "source": [
    "# | exporti\n",
    "class Sigmoid(UnaryElementwiseOp):\n",
    "    \"\"\"Take the sigmoid of a tensor\"\"\"\n",
    "\n",
    "    name_template = \"sigmoid({})\"\n",
    "\n",
    "    def __init__(self, a, name=None):\n",
    "        super().__init__(a, name=name)\n",
    "        self.out = Tensor(1 / (1 + np.exp(-self.args[0].data)), name=self.name, op=self)\n",
    "\n",
    "    def backward(self):\n",
    "        with np.errstate(under=\"ignore\"):  # Triggered by infinitesimally small 1-data\n",
    "            self.parents[0].grad += self.out.grad * self.out.data * (1 - self.out.data)"
   ]
  },
  {
   "cell_type": "code",
   "execution_count": null,
   "metadata": {},
   "outputs": [],
   "source": [
    "# | export\n",
    "def sigmoid(input, name=None):\n",
    "    return Sigmoid(input, name=name).out"
   ]
  },
  {
   "cell_type": "code",
   "execution_count": null,
   "metadata": {},
   "outputs": [],
   "source": [
    "# | exporti\n",
    "class Relu(UnaryElementwiseOp):\n",
    "    \"\"\"Take the sigmoid of a tensor\"\"\"\n",
    "\n",
    "    name_template = \"relu({})\"\n",
    "\n",
    "    def __init__(self, a, name=None):\n",
    "        super().__init__(a, name=name)\n",
    "        self.out = Tensor(np.maximum(0, self.args[0].data), name=self.name, op=self)\n",
    "\n",
    "    def backward(self):\n",
    "        self.parents[0].grad += self.out.grad * (self.out.data > 0)"
   ]
  },
  {
   "cell_type": "code",
   "execution_count": null,
   "metadata": {},
   "outputs": [],
   "source": [
    "# | export\n",
    "def relu(input, name=None):\n",
    "    return Relu(input, name=name).out"
   ]
  },
  {
   "cell_type": "code",
   "execution_count": null,
   "metadata": {},
   "outputs": [],
   "source": [
    "# | export\n",
    "from tidygrad.tensor import ExpLog"
   ]
  },
  {
   "cell_type": "code",
   "execution_count": null,
   "metadata": {},
   "outputs": [],
   "source": [
    "# | export\n",
    "\n",
    "\n",
    "def BCE_loss(logits, target):\n",
    "    return -logits + logits * target - ExpLog(-logits).out"
   ]
  },
  {
   "cell_type": "code",
   "execution_count": null,
   "metadata": {},
   "outputs": [],
   "source": [
    "# | exporti\n",
    "class Dropout(UnaryElementwiseOp):\n",
    "    \"\"\"Apply Dropout to a tensor\"\"\"\n",
    "\n",
    "    name_template = \"dropout({})\"\n",
    "\n",
    "    def __init__(self, a, p_drop=0.1, training=True, name=None):\n",
    "        super().__init__(a, name=name)\n",
    "        assert 0 < p_drop < 1, f\"p_drop must in (0, 1), got {p_drop}\"\n",
    "        self.p_drop = p_drop\n",
    "        self.training = training\n",
    "        if training:\n",
    "            # Note: We scale up the outputs during training rather than scaling down during inference.\n",
    "            scale_factor = 1 / (1 - p_drop)\n",
    "            self.mask = np.random.binomial(\n",
    "                scale_factor, 1 - p_drop, size=self.args[0].data.shape\n",
    "            )\n",
    "            self.out = Tensor(self.args[0].data * self.mask, name=self.name, op=self)\n",
    "        else:\n",
    "            self.out = Tensor(self.args[0].data, name=self.name, op=self)\n",
    "\n",
    "    def backward(self):\n",
    "        self.parents[0].grad += self.out.grad * (self.mask if self.training else 1)"
   ]
  },
  {
   "cell_type": "code",
   "execution_count": null,
   "metadata": {},
   "outputs": [],
   "source": [
    "# | export\n",
    "\n",
    "\n",
    "def dropout(x, p=0.5, training=True):\n",
    "    if p == 0:\n",
    "        return x\n",
    "\n",
    "    return Dropout(x, p_drop=p, training=training).out"
   ]
  },
  {
   "cell_type": "code",
   "execution_count": null,
   "metadata": {},
   "outputs": [],
   "source": [
    "import torch\n",
    "\n",
    "a = torch.randn(2, 30, requires_grad=True)\n",
    "\n",
    "b = torch.nn.functional.dropout(a, p=0.1, training=True)\n",
    "\n",
    "b.sum().backward()"
   ]
  },
  {
   "cell_type": "code",
   "execution_count": null,
   "metadata": {},
   "outputs": [
    {
     "data": {
      "text/plain": [
       "tensor([[1.1111, 1.1111, 1.1111, 1.1111, 1.1111, 1.1111, 1.1111, 1.1111, 1.1111,\n",
       "         1.1111, 1.1111, 1.1111, 0.0000, 1.1111, 0.0000, 1.1111, 1.1111, 1.1111,\n",
       "         1.1111, 1.1111, 1.1111, 1.1111, 1.1111, 1.1111, 1.1111, 1.1111, 1.1111,\n",
       "         1.1111, 0.0000, 1.1111],\n",
       "        [1.1111, 1.1111, 1.1111, 1.1111, 1.1111, 0.0000, 1.1111, 0.0000, 1.1111,\n",
       "         0.0000, 1.1111, 0.0000, 1.1111, 1.1111, 1.1111, 1.1111, 1.1111, 1.1111,\n",
       "         1.1111, 1.1111, 1.1111, 1.1111, 1.1111, 1.1111, 1.1111, 1.1111, 1.1111,\n",
       "         1.1111, 1.1111, 1.1111]])"
      ]
     },
     "execution_count": null,
     "metadata": {},
     "output_type": "execute_result"
    }
   ],
   "source": [
    "a.grad"
   ]
  }
 ],
 "metadata": {
  "kernelspec": {
   "display_name": "python3",
   "language": "python",
   "name": "python3"
  }
 },
 "nbformat": 4,
 "nbformat_minor": 2
}
