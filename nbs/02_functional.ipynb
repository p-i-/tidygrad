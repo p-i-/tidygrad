{
 "cells": [
  {
   "cell_type": "code",
   "execution_count": null,
   "metadata": {},
   "outputs": [],
   "source": [
    "# | hide\n",
    "import nbdev\n",
    "from nbdev.showdoc import *\n",
    "\n",
    "nbdev.nbdev_export()"
   ]
  },
  {
   "attachments": {},
   "cell_type": "markdown",
   "metadata": {},
   "source": [
    "### Functional operations\n"
   ]
  },
  {
   "cell_type": "code",
   "execution_count": null,
   "metadata": {},
   "outputs": [],
   "source": [
    "# | default_exp functional"
   ]
  },
  {
   "cell_type": "code",
   "execution_count": null,
   "metadata": {},
   "outputs": [],
   "source": [
    "# | export\n",
    "from tidygrad.tensor import Tensor, BaseOp, UnaryElementwiseOp, BinaryElementwiseOp\n",
    "import numpy as np"
   ]
  },
  {
   "cell_type": "code",
   "execution_count": null,
   "metadata": {},
   "outputs": [],
   "source": [
    "# | exporti\n",
    "class Sigmoid(UnaryElementwiseOp):\n",
    "    \"\"\"Take the sigmoid of a tensor\"\"\"\n",
    "\n",
    "    name_template = \"sigmoid({})\"\n",
    "\n",
    "    def __init__(self, a, name=None):\n",
    "        super().__init__(a, name=name)\n",
    "        self.out = Tensor(1 / (1 + np.exp(-self.args[0].data)), name=self.name, op=self)\n",
    "\n",
    "    def backward(self):\n",
    "        self.parents[0].grad += self.out.grad * self.out.data * (1 - self.out.data)"
   ]
  },
  {
   "cell_type": "code",
   "execution_count": null,
   "metadata": {},
   "outputs": [],
   "source": [
    "# | export\n",
    "def sigmoid(input, name=None):\n",
    "    return Sigmoid(input, name=name).out"
   ]
  },
  {
   "cell_type": "code",
   "execution_count": null,
   "metadata": {},
   "outputs": [],
   "source": [
    "# | exporti\n",
    "class Relu(UnaryElementwiseOp):\n",
    "    \"\"\"Take the sigmoid of a tensor\"\"\"\n",
    "\n",
    "    name_template = \"relu({})\"\n",
    "\n",
    "    def __init__(self, a, name=None):\n",
    "        super().__init__(a, name=name)\n",
    "        self.out = Tensor(np.maximum(0, self.args[0].data), name=self.name, op=self)\n",
    "\n",
    "    def backward(self):\n",
    "        self.parents[0].grad += self.out.grad * (self.out.data > 0)"
   ]
  },
  {
   "cell_type": "code",
   "execution_count": null,
   "metadata": {},
   "outputs": [],
   "source": [
    "# | export\n",
    "def relu(input, name=None):\n",
    "    return Relu(input, name=name).out"
   ]
  },
  {
   "cell_type": "code",
   "execution_count": null,
   "metadata": {},
   "outputs": [],
   "source": [
    "#| export\n",
    "from tidygrad.tensor import ExpLog"
   ]
  },
  {
   "cell_type": "code",
   "execution_count": null,
   "metadata": {},
   "outputs": [],
   "source": [
    "#| export\n",
    "\n",
    "def BCE_loss(logits, target):\n",
    "    return -logits + logits * target - ExpLog(-logits).out\n"
   ]
  }
 ],
 "metadata": {
  "kernelspec": {
   "display_name": "python3",
   "language": "python",
   "name": "python3"
  }
 },
 "nbformat": 4,
 "nbformat_minor": 2
}
