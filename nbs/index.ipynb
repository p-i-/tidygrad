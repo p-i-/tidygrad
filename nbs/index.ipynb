{
 "cells": [
  {
   "attachments": {},
   "cell_type": "markdown",
   "metadata": {},
   "source": [
    "# Tidy Grad | [Documentation](https://xl0.github.io/tidygrad/) | [Discord](https://discord.gg/qBaqauUWXP)\n",
    "\n",
    "![Tests](https://github.com/xl0/tidygrad/actions/workflows/test.yaml/badge.svg)\n",
    "\n",
    "> A tidy library for gradient-based optimization"
   ]
  },
  {
   "cell_type": "markdown",
   "metadata": {},
   "source": [
    "## Install"
   ]
  },
  {
   "attachments": {},
   "cell_type": "markdown",
   "metadata": {},
   "source": [
    "```sh\n",
    "pip install -e tidygrad\n",
    "```"
   ]
  },
  {
   "cell_type": "markdown",
   "metadata": {},
   "source": [
    "## Dev"
   ]
  },
  {
   "attachments": {},
   "cell_type": "markdown",
   "metadata": {},
   "source": [
    "```sh\n",
    "pip install -e .[dev] # Local install with dev dependencies\n",
    "```\n",
    "\n",
    "- Hack\n",
    "- Hack\n",
    "- Hack\n",
    "- (edit and run the notebooks in the `./nbs` directory).\n",
    "\n",
    "\n",
    "```sh\n",
    "nbdev_prepare\n",
    "```\n",
    "\n",
    "`nbdev_prepare` will:\n",
    "\n",
    "- Export all norebooks into the `./tidygrad` directory.\n",
    "    - Note: the notebooks themselves have an export cell, so they are exported every time you run them.\n",
    "- Run all notebooks (equivalent of testing)\n",
    "- Generate REDME.md from the index.ipynb\n",
    "- Generate the docs\n"
   ]
  },
  {
   "cell_type": "markdown",
   "metadata": {},
   "source": [
    "## How to use"
   ]
  },
  {
   "cell_type": "code",
   "execution_count": null,
   "metadata": {},
   "outputs": [],
   "source": [
    "# Later"
   ]
  }
 ],
 "metadata": {
  "kernelspec": {
   "display_name": "python3",
   "language": "python",
   "name": "python3"
  }
 },
 "nbformat": 4,
 "nbformat_minor": 4
}
