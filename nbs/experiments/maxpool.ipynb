{
 "cells": [
  {
   "cell_type": "markdown",
   "metadata": {},
   "source": [
    "# ⭐️ Exploration of techniques for maxpooling"
   ]
  },
  {
   "cell_type": "code",
   "execution_count": 1,
   "metadata": {},
   "outputs": [],
   "source": [
    "import numpy as np\n",
    "\n",
    "np.random.seed(42)  # keep diffs minimal\n",
    "\n",
    "A = np.arange(36)\n",
    "np.random.shuffle(A)\n",
    "A = A.reshape(6,6)"
   ]
  },
  {
   "cell_type": "code",
   "execution_count": 2,
   "metadata": {},
   "outputs": [],
   "source": [
    "from numpy.lib.stride_tricks import as_strided\n",
    "\n",
    "s, k = 2, 2\n",
    "\n",
    "out_height = (A.shape[0] - k)//s + 1\n",
    "out_width = (A.shape[1] - k)//s + 1\n",
    "\n",
    "strided = as_strided(A, shape=(out_height, out_width, k, k), strides=(s*A.strides[0], s*A.strides[1], A.strides[0], A.strides[1]))"
   ]
  },
  {
   "cell_type": "code",
   "execution_count": 3,
   "metadata": {},
   "outputs": [
    {
     "data": {
      "text/plain": [
       "array([[[[35, 13],\n",
       "         [21, 12]],\n",
       "\n",
       "        [[26, 30],\n",
       "         [ 8, 17]],\n",
       "\n",
       "        [[16, 31],\n",
       "         [ 9, 34]]],\n",
       "\n",
       "\n",
       "       [[[ 0,  4],\n",
       "         [11,  1]],\n",
       "\n",
       "        [[29, 15],\n",
       "         [24,  2]],\n",
       "\n",
       "        [[19,  5],\n",
       "         [33,  3]]],\n",
       "\n",
       "\n",
       "       [[[32, 23],\n",
       "         [25,  6]],\n",
       "\n",
       "        [[27, 10],\n",
       "         [20,  7]],\n",
       "\n",
       "        [[22, 18],\n",
       "         [14, 28]]]])"
      ]
     },
     "execution_count": 3,
     "metadata": {},
     "output_type": "execute_result"
    }
   ],
   "source": [
    "strided"
   ]
  },
  {
   "cell_type": "code",
   "execution_count": 4,
   "metadata": {},
   "outputs": [
    {
     "data": {
      "text/plain": [
       "'1.26.1'"
      ]
     },
     "execution_count": 4,
     "metadata": {},
     "output_type": "execute_result"
    }
   ],
   "source": [
    "np.__version__"
   ]
  },
  {
   "cell_type": "code",
   "execution_count": 5,
   "metadata": {},
   "outputs": [
    {
     "data": {
      "text/plain": [
       "array([[0, 1, 3],\n",
       "       [2, 0, 2],\n",
       "       [0, 0, 3]])"
      ]
     },
     "execution_count": 5,
     "metadata": {},
     "output_type": "execute_result"
    }
   ],
   "source": [
    "merged_shape = (*strided.shape[:-2], -1)  # Merge the last two dimensions\n",
    "reshaped_strided = strided.reshape(merged_shape)\n",
    "max_indices = np.argmax(reshaped_strided, axis=-1)\n",
    "\n",
    "max_indices"
   ]
  },
  {
   "cell_type": "code",
   "execution_count": 6,
   "metadata": {},
   "outputs": [
    {
     "name": "stdout",
     "output_type": "stream",
     "text": [
      "Max indices:\n",
      " [[0 1 3]\n",
      " [2 0 2]\n",
      " [0 0 3]]\n",
      "Unraveled indices:\n",
      " (array([[0, 0, 1],\n",
      "       [1, 0, 1],\n",
      "       [0, 0, 1]]), array([[0, 1, 1],\n",
      "       [0, 0, 0],\n",
      "       [0, 0, 1]]))\n"
     ]
    }
   ],
   "source": [
    "# Optionally, unravel the indices\n",
    "unraveled_indices = np.unravel_index(max_indices, (k, k))\n",
    "\n",
    "print(\"Max indices:\\n\", max_indices)\n",
    "print(\"Unraveled indices:\\n\", unraveled_indices)"
   ]
  },
  {
   "cell_type": "code",
   "execution_count": 7,
   "metadata": {},
   "outputs": [],
   "source": [
    "# Initialize the shape of the original array and the stride\n",
    "original_shape = (6, 6)\n",
    "stride = 2\n",
    "\n",
    "# Calculate the original indices\n",
    "original_row_indices = np.arange(0, max_indices.shape[0] * stride, stride)[:, np.newaxis] + unraveled_indices[0]\n",
    "original_col_indices = np.arange(0, max_indices.shape[1] * stride, stride)[np.newaxis, :] + unraveled_indices[1]\n",
    "\n",
    "# Pair them together\n",
    "original_indices = np.stack((original_row_indices, original_col_indices), axis=-1)"
   ]
  },
  {
   "cell_type": "code",
   "execution_count": 8,
   "metadata": {},
   "outputs": [
    {
     "data": {
      "text/plain": [
       "array([[[0, 0],\n",
       "        [0, 3],\n",
       "        [1, 5]],\n",
       "\n",
       "       [[3, 0],\n",
       "        [2, 2],\n",
       "        [3, 4]],\n",
       "\n",
       "       [[4, 0],\n",
       "        [4, 2],\n",
       "        [5, 5]]])"
      ]
     },
     "execution_count": 8,
     "metadata": {},
     "output_type": "execute_result"
    }
   ],
   "source": [
    "original_indices"
   ]
  },
  {
   "cell_type": "code",
   "execution_count": 9,
   "metadata": {},
   "outputs": [
    {
     "data": {
      "text/plain": [
       "array([[35, 13, 26, 30, 16, 31],\n",
       "       [21, 12,  8, 17,  9, 34],\n",
       "       [ 0,  4, 29, 15, 19,  5],\n",
       "       [11,  1, 24,  2, 33,  3],\n",
       "       [32, 23, 27, 10, 22, 18],\n",
       "       [25,  6, 20,  7, 14, 28]])"
      ]
     },
     "execution_count": 9,
     "metadata": {},
     "output_type": "execute_result"
    }
   ],
   "source": [
    "A"
   ]
  },
  {
   "cell_type": "code",
   "execution_count": 10,
   "metadata": {},
   "outputs": [
    {
     "data": {
      "text/plain": [
       "array([[[[ 1,  2],\n",
       "         [ 3,  4]],\n",
       "\n",
       "        [[ 5,  6],\n",
       "         [ 7,  8]]],\n",
       "\n",
       "\n",
       "       [[[ 9, 10],\n",
       "         [11, 12]],\n",
       "\n",
       "        [[13, 14],\n",
       "         [15, 16]]]])"
      ]
     },
     "execution_count": 10,
     "metadata": {},
     "output_type": "execute_result"
    }
   ],
   "source": [
    "A = np.array([[1,  2,  3,  4],\n",
    "              [5,  6,  7,  8],\n",
    "              [9,  10, 11, 12],\n",
    "              [13, 14, 15, 16]])\n",
    "\n",
    "A = A.reshape(2, 2, 2, 2)\n",
    "A"
   ]
  },
  {
   "cell_type": "code",
   "execution_count": 11,
   "metadata": {},
   "outputs": [
    {
     "data": {
      "text/plain": [
       "array([[[[ 1,  2],\n",
       "         [ 5,  6]],\n",
       "\n",
       "        [[ 3,  4],\n",
       "         [ 7,  8]]],\n",
       "\n",
       "\n",
       "       [[[ 9, 10],\n",
       "         [13, 14]],\n",
       "\n",
       "        [[11, 12],\n",
       "         [15, 16]]]])"
      ]
     },
     "execution_count": 11,
     "metadata": {},
     "output_type": "execute_result"
    }
   ],
   "source": [
    "A = A.swapaxes(-2, -3) ;  A"
   ]
  },
  {
   "cell_type": "code",
   "execution_count": 12,
   "metadata": {},
   "outputs": [
    {
     "data": {
      "text/plain": [
       "(2, 2, 2, 2)"
      ]
     },
     "execution_count": 12,
     "metadata": {},
     "output_type": "execute_result"
    }
   ],
   "source": [
    "A.shape"
   ]
  },
  {
   "cell_type": "code",
   "execution_count": 13,
   "metadata": {},
   "outputs": [
    {
     "data": {
      "text/plain": [
       "array([[[1, 1],\n",
       "        [1, 1]],\n",
       "\n",
       "       [[1, 1],\n",
       "        [1, 1]]])"
      ]
     },
     "execution_count": 13,
     "metadata": {},
     "output_type": "execute_result"
    }
   ],
   "source": [
    "np.argmax(A, axis=-1)"
   ]
  },
  {
   "cell_type": "markdown",
   "metadata": {},
   "source": [
    "# 🔸 This works!"
   ]
  },
  {
   "cell_type": "code",
   "execution_count": 14,
   "metadata": {},
   "outputs": [
    {
     "data": {
      "text/plain": [
       "array([[ 0,  1,  4,  5],\n",
       "       [ 2,  3,  6,  7],\n",
       "       [ 8,  9, 12, 13],\n",
       "       [10, 11, 14, 15]])"
      ]
     },
     "execution_count": 14,
     "metadata": {},
     "output_type": "execute_result"
    }
   ],
   "source": [
    "# Further revised transform function to output a 2D array where each row is a flattened kxk block\n",
    "def final_transform(matrix, k):\n",
    "    \"\"\"\n",
    "    Transforms a matrix so that each kxk block is flattened and each such flattened block becomes a row in a 2D array.\n",
    "    \n",
    "    Parameters:\n",
    "        matrix (np.array): The matrix to transform.\n",
    "        k (int): The size of the square blocks.\n",
    "    \n",
    "    Returns:\n",
    "        np.array: The transformed 2D array where each row is a flattened kxk block.\n",
    "    \"\"\"\n",
    "    # Reshape into blocks of size kxk\n",
    "    reshaped_matrix = matrix.reshape(matrix.shape[0] // k, k, matrix.shape[1] // k, k)\n",
    "    \n",
    "    # Swap the last two axes\n",
    "    swapped_matrix = reshaped_matrix.swapaxes(1, 2)\n",
    "    \n",
    "    # Flatten each kxk block and make each such flattened block a row in the output 2D array\n",
    "    return swapped_matrix.reshape(-1, k * k)\n",
    "\n",
    "# Testing the final transform function with arange(16)\n",
    "test_matrix = np.arange(16).reshape(4, 4)\n",
    "final_transformed_test_matrix = final_transform(test_matrix, 2)\n",
    "final_transformed_test_matrix\n",
    "\n",
    "\n"
   ]
  },
  {
   "cell_type": "code",
   "execution_count": 15,
   "metadata": {},
   "outputs": [
    {
     "data": {
      "text/plain": [
       "array([ 1,  7,  8, 15])"
      ]
     },
     "execution_count": 15,
     "metadata": {},
     "output_type": "execute_result"
    }
   ],
   "source": [
    "# Using the final_transform function in the main code\n",
    "\n",
    "# Step 1: Define the original 4x4 matrix A\n",
    "A = np.array([[12, 15, 5, 0],\n",
    "              [3, 11, 3, 7],\n",
    "              [9, 3, 5, 2],\n",
    "              [4, 7, 6, 8]])\n",
    "\n",
    "# Step 2: Transform A using the final_transform function\n",
    "transformed_A = final_transform(A, 2)\n",
    "\n",
    "# Step 3: Find max_indices using np.argmax\n",
    "max_indices = np.argmax(transformed_A, axis=1)\n",
    "\n",
    "# Step 4: Create a lookup matrix and transform it\n",
    "lookup = np.arange(16).reshape(4, 4)\n",
    "transformed_lookup = final_transform(lookup, 2)\n",
    "\n",
    "# Step 5: Retrieve original indices using max_indices\n",
    "final_original_indices = transformed_lookup[np.arange(max_indices.size), max_indices]\n",
    "\n",
    "final_original_indices\n"
   ]
  },
  {
   "cell_type": "code",
   "execution_count": 16,
   "metadata": {},
   "outputs": [
    {
     "data": {
      "text/plain": [
       "array([[15,  7],\n",
       "       [ 9,  8]])"
      ]
     },
     "execution_count": 16,
     "metadata": {},
     "output_type": "execute_result"
    }
   ],
   "source": [
    "# Implementing the MaxPool class\n",
    "class MaxPool:\n",
    "    def __init__(self, k):\n",
    "        self.k = k\n",
    "        self.lookup = None\n",
    "\n",
    "    def forward(self, A):\n",
    "        # Determine padding and pad A\n",
    "        pad_height = (self.k - A.shape[0] % self.k) % self.k\n",
    "        pad_width = (self.k - A.shape[1] % self.k) % self.k\n",
    "        padded_A = np.pad(A, ((0, pad_height), (0, pad_width)), mode='constant')\n",
    "        \n",
    "        # Create lookup matrix if it's None or the shape doesn't match\n",
    "        if self.lookup is None or self.lookup.shape != padded_A.shape:\n",
    "            rows, cols = padded_A.shape\n",
    "            self.lookup = np.arange(rows * cols).reshape(rows, cols)\n",
    "        \n",
    "        # Transform A and lookup matrix using the final_transform function\n",
    "        transformed_A = final_transform(padded_A, self.k)\n",
    "        transformed_lookup = final_transform(self.lookup, self.k)\n",
    "        \n",
    "        # Find max_indices using np.argmax\n",
    "        max_indices = np.argmax(transformed_A, axis=1)\n",
    "        \n",
    "        # Retrieve original indices using max_indices\n",
    "        final_original_indices = transformed_lookup[np.arange(max_indices.size), max_indices]\n",
    "        \n",
    "        # Retrieve the max values and reshape to a 2D array\n",
    "        max_values = padded_A.flatten()[final_original_indices]\n",
    "        out_height = padded_A.shape[0] // self.k\n",
    "        out_width = padded_A.shape[1] // self.k\n",
    "        return max_values.reshape(out_height, out_width)\n",
    "\n",
    "# Testing the MaxPool class\n",
    "maxpool = MaxPool(2)\n",
    "A = np.array([[12, 15, 5, 0],\n",
    "              [3, 11, 3, 7],\n",
    "              [9, 3, 5, 2],\n",
    "              [4, 7, 6, 8]])\n",
    "maxpool_output = maxpool.forward(A)\n",
    "maxpool_output\n"
   ]
  },
  {
   "cell_type": "code",
   "execution_count": 17,
   "metadata": {},
   "outputs": [
    {
     "data": {
      "text/plain": [
       "array([[15,  7],\n",
       "       [ 9,  8]])"
      ]
     },
     "execution_count": 17,
     "metadata": {},
     "output_type": "execute_result"
    }
   ],
   "source": [
    "# Modifying the MaxPool class to use cleaner keys for lookups\n",
    "class MaxPool:\n",
    "    def __init__(self, k):\n",
    "        self.k = k\n",
    "        self.lookups = {}  # Dictionary to store lookups for different sizes\n",
    "\n",
    "    def forward(self, A):\n",
    "        # Determine padding and pad A\n",
    "        pad_height = (self.k - A.shape[0] % self.k) % self.k\n",
    "        pad_width = (self.k - A.shape[1] % self.k) % self.k\n",
    "        padded_A = np.pad(A, ((0, pad_height), (0, pad_width)), mode='constant')\n",
    "        \n",
    "        # Create or retrieve lookup matrix using a cleaner key\n",
    "        key = f\"{padded_A.shape[0]}x{padded_A.shape[1]}\"\n",
    "        if key not in self.lookups:\n",
    "            rows, cols = padded_A.shape\n",
    "            self.lookups[key] = np.arange(rows * cols).reshape(rows, cols)\n",
    "        \n",
    "        lookup = self.lookups[key]\n",
    "        \n",
    "        # Transform A and lookup matrix using the final_transform function\n",
    "        transformed_A = final_transform(padded_A, self.k)\n",
    "        transformed_lookup = final_transform(lookup, self.k)\n",
    "        \n",
    "        # Find max_indices using np.argmax\n",
    "        max_indices = np.argmax(transformed_A, axis=1)\n",
    "        \n",
    "        # Retrieve original indices using max_indices\n",
    "        final_original_indices = transformed_lookup[np.arange(max_indices.size), max_indices]\n",
    "        \n",
    "        # Retrieve the max values and reshape to a 2D array\n",
    "        max_values = padded_A.flatten()[final_original_indices]\n",
    "        out_height = padded_A.shape[0] // self.k\n",
    "        out_width = padded_A.shape[1] // self.k\n",
    "        return max_values.reshape(out_height, out_width)\n",
    "\n",
    "# Quick test to ensure functionality remains the same\n",
    "maxpool = MaxPool(2)\n",
    "A1 = np.array([[12, 15, 5, 0],\n",
    "               [3, 11, 3, 7],\n",
    "               [9, 3, 5, 2],\n",
    "               [4, 7, 6, 8]])\n",
    "\n",
    "output1 = maxpool.forward(A1)\n",
    "output1\n"
   ]
  },
  {
   "cell_type": "code",
   "execution_count": 18,
   "metadata": {},
   "outputs": [],
   "source": [
    "def test_maxpool_basic():\n",
    "    # Initialize MaxPool with k=2\n",
    "    maxpool = MaxPool(2)\n",
    "    \n",
    "    # Define a 4x4 matrix\n",
    "    A = np.array([[12, 15, 5, 0],\n",
    "                  [3, 11, 3, 7],\n",
    "                  [9, 3, 5, 2],\n",
    "                  [4, 7, 6, 8]])\n",
    "    \n",
    "    # Expected output based on manual calculation\n",
    "    expected_output = np.array([[15, 7],\n",
    "                                [9, 8]])\n",
    "    \n",
    "    # Run the forward method\n",
    "    output = maxpool.forward(A)\n",
    "    \n",
    "    # Check if the output matches the expected output\n",
    "    assert np.array_equal(output, expected_output), f\"Expected {expected_output}, got {output}\"\n",
    "\n",
    "# Run the first test\n",
    "test_maxpool_basic()"
   ]
  },
  {
   "cell_type": "code",
   "execution_count": 19,
   "metadata": {},
   "outputs": [
    {
     "data": {
      "text/plain": [
       "(0.00012421607971191406, 0.001071929931640625)"
      ]
     },
     "execution_count": 19,
     "metadata": {},
     "output_type": "execute_result"
    }
   ],
   "source": [
    "from time import time\n",
    "\n",
    "# Flushing the cache by reinitializing the MaxPool instance\n",
    "maxpool = MaxPool(2)\n",
    "\n",
    "# Timing the first run of the test after flushing the cache\n",
    "start_time = time()\n",
    "test_maxpool_basic()\n",
    "first_run_time_flushed = time() - start_time\n",
    "\n",
    "# Timing the second run of the test after flushing the cache\n",
    "start_time = time()\n",
    "test_maxpool_basic()\n",
    "second_run_time_flushed = time() - start_time\n",
    "\n",
    "first_run_time_flushed, second_run_time_flushed\n"
   ]
  },
  {
   "cell_type": "code",
   "execution_count": 20,
   "metadata": {},
   "outputs": [],
   "source": [
    "# Implementing the second test: Padding Test\n",
    "\n",
    "def test_maxpool_padding():\n",
    "    # Initialize MaxPool with k=2\n",
    "    maxpool = MaxPool(2)\n",
    "    \n",
    "    # Define a 5x5 matrix\n",
    "    A = np.array([[12, 15, 5, 0, 1],\n",
    "                  [3, 11, 3, 7, 2],\n",
    "                  [9, 3, 5, 2, 3],\n",
    "                  [4, 7, 6, 8, 4],\n",
    "                  [1, 2, 3, 4, 5]])\n",
    "    \n",
    "    # Expected output based on manual calculation\n",
    "    expected_output = np.array([[15, 7, 2],\n",
    "                                [9, 8, 4],\n",
    "                                [2, 4, 5]])\n",
    "    \n",
    "    # Run the forward method\n",
    "    output = maxpool.forward(A)\n",
    "    \n",
    "    # Check if the output matches the expected output\n",
    "    assert np.array_equal(output, expected_output), f\"Expected {expected_output}, got {output}\"\n",
    "\n",
    "# Run the second test\n",
    "test_maxpool_padding()\n"
   ]
  },
  {
   "cell_type": "code",
   "execution_count": 21,
   "metadata": {},
   "outputs": [],
   "source": [
    "# Implementing the third test: Different k Test\n",
    "\n",
    "def test_maxpool_diff_k():\n",
    "    # Initialize MaxPool with k=3\n",
    "    maxpool = MaxPool(3)\n",
    "    \n",
    "    # Define a 6x6 matrix\n",
    "    A = np.array([[12, 15, 5, 0, 1, 2],\n",
    "                  [3, 11, 3, 7, 2, 4],\n",
    "                  [9, 3, 5, 2, 3, 1],\n",
    "                  [4, 7, 6, 8, 4, 6],\n",
    "                  [1, 2, 3, 4, 5, 2],\n",
    "                  [2, 3, 5, 1, 0, 3]])\n",
    "    \n",
    "    # Expected output based on manual calculation\n",
    "    expected_output = np.array([[15, 7],\n",
    "                                [7, 8]])\n",
    "    \n",
    "    # Run the forward method\n",
    "    output = maxpool.forward(A)\n",
    "    \n",
    "    # Check if the output matches the expected output\n",
    "    assert np.array_equal(output, expected_output), f\"Expected {expected_output}, got {output}\"\n",
    "\n",
    "# Run the third test\n",
    "test_maxpool_diff_k()\n"
   ]
  },
  {
   "cell_type": "code",
   "execution_count": 22,
   "metadata": {},
   "outputs": [],
   "source": [
    "# Adjusting the fourth test: Reuse Lookup Test\n",
    "\n",
    "def test_maxpool_reuse_lookup():\n",
    "    # Initialize MaxPool with k=2\n",
    "    maxpool = MaxPool(2)\n",
    "    \n",
    "    # Define a 4x4 matrix for the first run\n",
    "    A1 = np.array([\n",
    "        [12, 15, 5, 0],\n",
    "        [3, 11, 3, 7],\n",
    "        [9, 3, 5, 2],\n",
    "        [4, 7, 6, 8]\n",
    "    ])\n",
    "    \n",
    "    # Define a 5x5 matrix for the second run\n",
    "    A2 = np.array([\n",
    "        [12, 15, 5, 0, 1],\n",
    "        [3, 11, 3, 7, 2],\n",
    "        [9, 3, 5, 2, 3],\n",
    "        [4, 7, 6, 8, 4],\n",
    "        [1, 2, 3, 4, 5]\n",
    "    ])\n",
    "    \n",
    "    # Corrected expected output for A1 based on manual calculation\n",
    "    expected_output1 = np.array([\n",
    "        [15, 7],\n",
    "        [9, 8]\n",
    "    ])\n",
    "    \n",
    "    # Corrected expected output for A2 based on manual calculation\n",
    "    expected_output2 = np.array([\n",
    "        [15, 7, 2],\n",
    "        [9, 8, 4],\n",
    "        [2, 4, 5]\n",
    "    ])\n",
    "    \n",
    "    # Run the forward method for A1 and check output\n",
    "    output1 = maxpool.forward(A1)\n",
    "    assert np.array_equal(output1, expected_output1), f\"Expected {expected_output1}, got {output1}\"\n",
    "    \n",
    "    # Run the forward method for A2 and check output\n",
    "    output2 = maxpool.forward(A2)\n",
    "    assert np.array_equal(output2, expected_output2), f\"Expected {expected_output2}, got {output2}\"\n",
    "    \n",
    "    # Run the forward method for A1 again and check output\n",
    "    output1_again = maxpool.forward(A1)\n",
    "    assert np.array_equal(output1_again, expected_output1), f\"Expected {expected_output1}, got {output1_again}\"\n",
    "\n",
    "# Run the fourth test\n",
    "test_maxpool_reuse_lookup()\n"
   ]
  },
  {
   "cell_type": "markdown",
   "metadata": {},
   "source": [
    "# 🔸 Numba (also works)"
   ]
  },
  {
   "cell_type": "code",
   "execution_count": 23,
   "metadata": {},
   "outputs": [],
   "source": [
    "! pip install -q numba"
   ]
  },
  {
   "cell_type": "code",
   "execution_count": 24,
   "metadata": {},
   "outputs": [
    {
     "data": {
      "text/plain": [
       "(array([[ 1,  7],\n",
       "        [ 8, 15]]),\n",
       " array([[15,  7],\n",
       "        [ 9,  8]]))"
      ]
     },
     "execution_count": 24,
     "metadata": {},
     "output_type": "execute_result"
    }
   ],
   "source": [
    "from numba import jit\n",
    "\n",
    "# Using Numba to speed up the for-loop implementation\n",
    "@jit(nopython=True)\n",
    "def maxpool_numba(A, k):\n",
    "    # Determine the output size\n",
    "    noutY, noutX = A.shape[0] // k, A.shape[1] // k\n",
    "\n",
    "    # Initialize output arrays\n",
    "    outIndices = np.zeros((noutY, noutX), dtype=np.int64)\n",
    "    outValues = np.zeros((noutY, noutX), dtype=A.dtype)\n",
    "    \n",
    "    for outY in range(noutY):\n",
    "        for outX in range(noutX):\n",
    "            # Extract the relevant slice from A\n",
    "            square = A[outY * k: (outY + 1) * k, outX * k: (outX + 1) * k]\n",
    "            \n",
    "            # Find the index of the maximum value in the square\n",
    "            indexWinner = np.argmax(square)\n",
    "            \n",
    "            # Compute the original index in A for the maximum value\n",
    "            originalIndex = (outY * k + indexWinner // k) * A.shape[1] + (outX * k + indexWinner % k)\n",
    "            \n",
    "            # Store the index and value\n",
    "            outIndices[outY, outX] = originalIndex\n",
    "            outValues[outY, outX] = square.flatten()[indexWinner]\n",
    "    \n",
    "    return outIndices, outValues\n",
    "\n",
    "# Test the Numba-based maxpool\n",
    "A = np.array([\n",
    "    [12, 15, 5, 0],\n",
    "    [3, 11, 3, 7],\n",
    "    [9, 3, 5, 2],\n",
    "    [4, 7, 6, 8]\n",
    "])\n",
    "\n",
    "# Using k=2\n",
    "k = 2\n",
    "\n",
    "outIndices, outValues = maxpool_numba(A, k)\n",
    "outIndices, outValues\n"
   ]
  },
  {
   "cell_type": "code",
   "execution_count": 25,
   "metadata": {},
   "outputs": [
    {
     "name": "stdout",
     "output_type": "stream",
     "text": [
      "18.8 µs ± 176 ns per loop (mean ± std. dev. of 7 runs, 100,000 loops each)\n"
     ]
    }
   ],
   "source": [
    "%timeit test_maxpool_basic()"
   ]
  },
  {
   "cell_type": "code",
   "execution_count": 26,
   "metadata": {},
   "outputs": [
    {
     "name": "stdout",
     "output_type": "stream",
     "text": [
      "920 ns ± 7.65 ns per loop (mean ± std. dev. of 7 runs, 1,000,000 loops each)\n"
     ]
    }
   ],
   "source": [
    "%timeit maxpool_numba(A, k)"
   ]
  },
  {
   "cell_type": "code",
   "execution_count": 27,
   "metadata": {},
   "outputs": [
    {
     "name": "stdout",
     "output_type": "stream",
     "text": [
      "[[2496.71773003 2488.86011419]\n",
      " [2485.16816979 2468.95908035]]\n"
     ]
    }
   ],
   "source": [
    "from numba import jit\n",
    "import numpy as np\n",
    "\n",
    "@jit(forceobj=True)\n",
    "def matmul_numba(a, b):\n",
    "    return np.matmul(a, b)\n",
    "\n",
    "# Define two large NumPy arrays\n",
    "a = np.random.rand(10000, 10000)\n",
    "b = np.random.rand(10000, 10000)\n",
    "\n",
    "# Call the JIT-compiled matmul function\n",
    "result = matmul_numba(a, b)\n",
    "\n",
    "# Optionally, print a small part of the result to verify\n",
    "print(result[:2, :2])"
   ]
  },
  {
   "cell_type": "code",
   "execution_count": 28,
   "metadata": {},
   "outputs": [
    {
     "name": "stdout",
     "output_type": "stream",
     "text": [
      "[[2527.00446705 2497.52093011]\n",
      " [2517.76276695 2489.89448889]]\n"
     ]
    }
   ],
   "source": [
    "# Define two large NumPy arrays\n",
    "a = np.random.rand(10000, 10000)\n",
    "b = np.random.rand(10000, 10000)\n",
    "\n",
    "# Call the JIT-compiled matmul function\n",
    "result = matmul_numba(a, b)\n",
    "\n",
    "# Optionally, print a small part of the result to verify\n",
    "print(result[:2, :2])"
   ]
  },
  {
   "cell_type": "markdown",
   "metadata": {},
   "source": [
    "# 🔸 new approach"
   ]
  },
  {
   "cell_type": "code",
   "execution_count": 29,
   "metadata": {},
   "outputs": [
    {
     "data": {
      "text/plain": [
       "array([[ 0,  1,  2,  3,  4,  5],\n",
       "       [ 6,  7,  8,  9, 10, 11],\n",
       "       [12, 13, 14, 15, 16, 17],\n",
       "       [18, 19, 20, 21, 22, 23],\n",
       "       [24, 25, 26, 27, 28, 29],\n",
       "       [30, 31, 32, 33, 34, 35]], dtype=int32)"
      ]
     },
     "execution_count": 29,
     "metadata": {},
     "output_type": "execute_result"
    }
   ],
   "source": [
    "N, k = 6, 3  # input size, kernel size\n",
    "I = np.arange(N*N, dtype=np.int32).reshape(N, N)\n",
    "I"
   ]
  },
  {
   "cell_type": "code",
   "execution_count": 30,
   "metadata": {},
   "outputs": [
    {
     "data": {
      "text/plain": [
       "((4, 4, 9), array([ 1,  2,  3,  7,  8,  9, 13, 14, 15], dtype=int32))"
      ]
     },
     "execution_count": 30,
     "metadata": {},
     "output_type": "execute_result"
    }
   ],
   "source": [
    "# for each output position, grab indices of input-square that created it\n",
    "s = N-k+1  # output size: 4 postions kernel can slide in x and y direction\n",
    "lookup = np.zeros((s, s, k*k), dtype=np.int32)\n",
    "for r in range(s):\n",
    "    for c in range(s):\n",
    "        # each position in output needs to be a list of the indices of the input for this kernel-position\n",
    "        lookup[r,c] = I[r:r+k, c:c+k].flatten()\n",
    "lookup.shape, lookup[0,1]"
   ]
  },
  {
   "cell_type": "code",
   "execution_count": 31,
   "metadata": {},
   "outputs": [
    {
     "data": {
      "text/plain": [
       "array([[-15,   3,  -5,  -4, -12,   0],\n",
       "       [ 13,   3,  -5,  -1, -12,   7],\n",
       "       [ 14,  14, -13,   8, -16,   8],\n",
       "       [ -9, -13,  -7,  -3, -16,   5],\n",
       "       [-16,   0,  -6,  10,   0,  -4],\n",
       "       [ 14,   6, -12,  -5,  -8,  15]])"
      ]
     },
     "execution_count": 31,
     "metadata": {},
     "output_type": "execute_result"
    }
   ],
   "source": [
    "# from lovely_numpy import Lo\n",
    "A = np.random.randint(-16, 16, size=(6, 6))  # inputs\n",
    "# W = np.random.randn(*A.shape)  # weights\n",
    "# A.flatten()[O]#.reshape(A.shape)\n",
    "# Lo(A.flatten()[O])\n",
    "np.set_printoptions(precision=3)\n",
    "\n",
    "A"
   ]
  },
  {
   "cell_type": "code",
   "execution_count": 32,
   "metadata": {},
   "outputs": [
    {
     "data": {
      "text/plain": [
       "((4, 4),\n",
       " array([[6, 6, 7, 6],\n",
       "        [3, 3, 4, 3],\n",
       "        [0, 0, 7, 6],\n",
       "        [6, 5, 4, 8]]))"
      ]
     },
     "execution_count": 32,
     "metadata": {},
     "output_type": "execute_result"
    }
   ],
   "source": [
    "rel_indices = A.flatten()[lookup].argmax(axis=-1)  # winning index within each kernel-location\n",
    "rel_indices.shape, rel_indices"
   ]
  },
  {
   "cell_type": "code",
   "execution_count": 33,
   "metadata": {},
   "outputs": [
    {
     "data": {
      "text/plain": [
       "((4, 1),\n",
       " (1, 4),\n",
       " array([[12, 13, 15, 15],\n",
       "        [12, 13, 15, 15],\n",
       "        [12, 13, 27, 27],\n",
       "        [30, 27, 27, 35]], dtype=int32))"
      ]
     },
     "execution_count": 33,
     "metadata": {},
     "output_type": "execute_result"
    }
   ],
   "source": [
    "i, j = np.ogrid[:s,:s]\n",
    "winner_indices = lookup[i, j, rel_indices]  # get these indices w.r.t. original shape\n",
    "i.shape, j.shape, winner_indices"
   ]
  },
  {
   "cell_type": "code",
   "execution_count": 34,
   "metadata": {},
   "outputs": [],
   "source": [
    "# alternative formulation\n",
    "# u = np.arange(s, dtype=np.int32)[None] ;  lookup[u.T, u, rel_indices]"
   ]
  },
  {
   "cell_type": "code",
   "execution_count": 35,
   "metadata": {},
   "outputs": [
    {
     "data": {
      "text/plain": [
       "array([[0, 0, 0, 0, 0, 0],\n",
       "       [0, 0, 0, 0, 0, 0],\n",
       "       [3, 3, 0, 4, 0, 0],\n",
       "       [0, 0, 0, 0, 0, 0],\n",
       "       [0, 0, 0, 4, 0, 0],\n",
       "       [1, 0, 0, 0, 0, 1]])"
      ]
     },
     "execution_count": 35,
     "metadata": {},
     "output_type": "execute_result"
    }
   ],
   "source": [
    "multiplier = np.bincount(\n",
    "    winner_indices.flatten(),\n",
    "    minlength=A.size\n",
    ").reshape(A.shape)\n",
    "multiplier"
   ]
  },
  {
   "cell_type": "markdown",
   "metadata": {},
   "source": [
    "# 🔹 Test the index-matrix to freq-matrix conversion\n",
    "\n",
    "test numpy vs numba impls"
   ]
  },
  {
   "cell_type": "code",
   "execution_count": 36,
   "metadata": {},
   "outputs": [
    {
     "data": {
      "text/plain": [
       "array([[1, 1, 0],\n",
       "       [0, 3, 3],\n",
       "       [1, 0, 0]])"
      ]
     },
     "execution_count": 36,
     "metadata": {},
     "output_type": "execute_result"
    }
   ],
   "source": [
    "import numpy as np\n",
    "\n",
    "# Input 3x3 matrix with values between 0 and 8\n",
    "input_matrix = np.array([[5, 4, 4],\n",
    "                         [4, 5, 0],\n",
    "                         [1, 5, 6]])\n",
    "\n",
    "# Calculate the frequency of each number in the input_matrix\n",
    "frequency_counts = np.bincount(input_matrix.flatten(), minlength=9)\n",
    "\n",
    "# Reshape the frequency counts to a 3x3 output matrix\n",
    "frequency_output_matrix = frequency_counts.reshape((3, 3))\n",
    "frequency_output_matrix"
   ]
  },
  {
   "cell_type": "code",
   "execution_count": 1,
   "metadata": {},
   "outputs": [],
   "source": [
    "if 0:  # crashes kernel sometimes, so disabled\n",
    "    import numpy as np\n",
    "    from numba import njit\n",
    "    import timeit\n",
    "\n",
    "    # Numba-accelerated function\n",
    "    @njit\n",
    "    def count_with_numba(input_matrix):\n",
    "        B = np.zeros_like(input_matrix)\n",
    "        for elt in input_matrix.flatten():\n",
    "            B[elt] += 1\n",
    "        return B\n",
    "\n",
    "    # NumPy function\n",
    "    def count_with_numpy(input_matrix):\n",
    "        return np.bincount(input_matrix.flatten(), minlength=input_matrix.size).reshape(input_matrix.shape)\n",
    "\n",
    "    # Input matrix generation\n",
    "    k = 100  # for a 100x100 matrix\n",
    "    input_matrix = np.random.randint(0, k*k, size=(k, k))\n",
    "\n",
    "    # Warm up Numba (trigger compilation)\n",
    "    count_with_numba(input_matrix)\n",
    "\n",
    "    # Time profiling\n",
    "    numpy_time = timeit.timeit('count_with_numpy(input_matrix)', globals=globals(), number=10)\n",
    "    numba_time = timeit.timeit('count_with_numba(input_matrix)', globals=globals(), number=10)\n",
    "\n",
    "    print(f\"NumPy Time: {numpy_time}\")\n",
    "    print(f\"Numba Time: {numba_time}\")\n"
   ]
  },
  {
   "cell_type": "code",
   "execution_count": null,
   "metadata": {},
   "outputs": [],
   "source": []
  }
 ],
 "metadata": {
  "kernelspec": {
   "display_name": ".venv",
   "language": "python",
   "name": "python3"
  },
  "language_info": {
   "codemirror_mode": {
    "name": "ipython",
    "version": 3
   },
   "file_extension": ".py",
   "mimetype": "text/x-python",
   "name": "python",
   "nbconvert_exporter": "python",
   "pygments_lexer": "ipython3",
   "version": "3.11.5"
  }
 },
 "nbformat": 4,
 "nbformat_minor": 2
}
